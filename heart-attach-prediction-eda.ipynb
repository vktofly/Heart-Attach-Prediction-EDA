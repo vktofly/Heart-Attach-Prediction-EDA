{
 "cells": [
  {
   "cell_type": "markdown",
   "id": "peripheral-harvard",
   "metadata": {
    "papermill": {
     "duration": 0.035856,
     "end_time": "2021-06-27T07:13:42.408596",
     "exception": false,
     "start_time": "2021-06-27T07:13:42.372740",
     "status": "completed"
    },
    "tags": []
   },
   "source": [
    "# About this dataset\n",
    "## I) Dependant Variables\n",
    "1. Age : Age of the patient\n",
    "2. Sex : Sex of the patient\n",
    "3. exang: exercise induced angina (1 = yes; 0 = no)\n",
    "4. ca: number of major vessels (0-3)\n",
    "5. cp : Chest Pain type chest pain type\n",
    "     * Value 1: typical angina\n",
    "     * Value 2: atypical angina\n",
    "     * Value 3: non-anginal pain\n",
    "     * Value 4: asymptomatic\n",
    "6. trtbps : resting blood pressure (in mm Hg)\n",
    "7. chol : cholestoral in mg/dl fetched via BMI sensor\n",
    "8. fbs : (fasting blood sugar > 120 mg/dl) (1 = true; 0 = false)\n",
    "9. rest_ecg : resting electrocardiographic results\n",
    "     * Value 0: normal\n",
    "     * Value 1: having ST-T wave abnormality (T wave inversions and/or ST elevation or depression of > 0.05 mV)\n",
    "     * Value 2: showing probable or definite left ventricular hypertrophy by Estes' criteria\n",
    "     * thalach : maximum heart rate achieved\n",
    "\n",
    "\n",
    "## II) Independent Variables:\n",
    "target : \n",
    "         0= less chance of heart attack \n",
    "         1= more chance of heart attack"
   ]
  },
  {
   "cell_type": "markdown",
   "id": "consecutive-avenue",
   "metadata": {
    "papermill": {
     "duration": 0.033994,
     "end_time": "2021-06-27T07:13:42.477633",
     "exception": false,
     "start_time": "2021-06-27T07:13:42.443639",
     "status": "completed"
    },
    "tags": []
   },
   "source": [
    "# Importing Libraries"
   ]
  },
  {
   "cell_type": "code",
   "execution_count": 1,
   "id": "discrete-chosen",
   "metadata": {
    "_cell_guid": "b1076dfc-b9ad-4769-8c92-a6c4dae69d19",
    "_uuid": "8f2839f25d086af736a60e9eeb907d3b93b6e0e5",
    "execution": {
     "iopub.execute_input": "2021-06-27T07:13:42.562605Z",
     "iopub.status.busy": "2021-06-27T07:13:42.561946Z",
     "iopub.status.idle": "2021-06-27T07:13:44.790964Z",
     "shell.execute_reply": "2021-06-27T07:13:44.790190Z",
     "shell.execute_reply.started": "2021-06-27T07:13:18.591220Z"
    },
    "papermill": {
     "duration": 2.279017,
     "end_time": "2021-06-27T07:13:44.791123",
     "exception": false,
     "start_time": "2021-06-27T07:13:42.512106",
     "status": "completed"
    },
    "tags": []
   },
   "outputs": [
    {
     "name": "stdout",
     "output_type": "stream",
     "text": [
      "/kaggle/input/heart-attack-analysis-prediction-dataset/o2Saturation.csv\n",
      "/kaggle/input/heart-attack-analysis-prediction-dataset/heart.csv\n"
     ]
    }
   ],
   "source": [
    "##Importing Libraries\n",
    "\n",
    "#Libraries for Dataset Loading and Data Wrangling\n",
    "import pandas as pd\n",
    "import numpy as np \n",
    "\n",
    "#Data Visualization\n",
    "import seaborn as sns\n",
    "sns.set_theme(style=\"darkgrid\")\n",
    "import plotly.graph_objects as go\n",
    "import matplotlib.pyplot as plt\n",
    "\n",
    "#Model Selection & Model Optimization\n",
    "from sklearn.model_selection import train_test_split,RandomizedSearchCV\n",
    "from sklearn.feature_selection import SequentialFeatureSelector \n",
    "\n",
    "#Statistical Inference Analyis\n",
    "import statsmodels.api as sm\n",
    "import scipy.stats as stats\n",
    "\n",
    "#Models\n",
    "from sklearn.linear_model import LogisticRegression\n",
    "from sklearn.ensemble import RandomForestClassifier\n",
    "from sklearn.tree import DecisionTreeClassifier\n",
    "\n",
    "\n",
    "#Validation\n",
    "from sklearn.metrics import accuracy_score\n",
    "from sklearn.metrics import log_loss\n",
    "from sklearn.metrics import confusion_matrix\n",
    "from sklearn.metrics import plot_roc_curve\n",
    "from sklearn.metrics import roc_curve\n",
    "from sklearn.metrics import roc_auc_score\n",
    "\n",
    "#Filter's Warnings \n",
    "import warnings\n",
    "warnings.filterwarnings('ignore')\n",
    "import os\n",
    "for dirname, _, filenames in os.walk('/kaggle/input'):\n",
    "    for filename in filenames:\n",
    "        print(os.path.join(dirname, filename))"
   ]
  },
  {
   "cell_type": "markdown",
   "id": "respiratory-while",
   "metadata": {
    "papermill": {
     "duration": 0.034702,
     "end_time": "2021-06-27T07:13:44.861492",
     "exception": false,
     "start_time": "2021-06-27T07:13:44.826790",
     "status": "completed"
    },
    "tags": []
   },
   "source": [
    "# Data Exploration"
   ]
  },
  {
   "cell_type": "code",
   "execution_count": 2,
   "id": "explicit-brook",
   "metadata": {
    "execution": {
     "iopub.execute_input": "2021-06-27T07:13:44.937445Z",
     "iopub.status.busy": "2021-06-27T07:13:44.936740Z",
     "iopub.status.idle": "2021-06-27T07:13:44.975319Z",
     "shell.execute_reply": "2021-06-27T07:13:44.975834Z",
     "shell.execute_reply.started": "2021-06-27T07:02:07.336305Z"
    },
    "papermill": {
     "duration": 0.079503,
     "end_time": "2021-06-27T07:13:44.976004",
     "exception": false,
     "start_time": "2021-06-27T07:13:44.896501",
     "status": "completed"
    },
    "tags": []
   },
   "outputs": [
    {
     "name": "stdout",
     "output_type": "stream",
     "text": [
      "Number of Rows: 303\n",
      "Number of Columns: 14\n"
     ]
    },
    {
     "data": {
      "text/html": [
       "<div>\n",
       "<style scoped>\n",
       "    .dataframe tbody tr th:only-of-type {\n",
       "        vertical-align: middle;\n",
       "    }\n",
       "\n",
       "    .dataframe tbody tr th {\n",
       "        vertical-align: top;\n",
       "    }\n",
       "\n",
       "    .dataframe thead th {\n",
       "        text-align: right;\n",
       "    }\n",
       "</style>\n",
       "<table border=\"1\" class=\"dataframe\">\n",
       "  <thead>\n",
       "    <tr style=\"text-align: right;\">\n",
       "      <th></th>\n",
       "      <th>age</th>\n",
       "      <th>sex</th>\n",
       "      <th>cp</th>\n",
       "      <th>trtbps</th>\n",
       "      <th>chol</th>\n",
       "      <th>fbs</th>\n",
       "      <th>restecg</th>\n",
       "      <th>thalachh</th>\n",
       "      <th>exng</th>\n",
       "      <th>oldpeak</th>\n",
       "      <th>slp</th>\n",
       "      <th>caa</th>\n",
       "      <th>thall</th>\n",
       "      <th>output</th>\n",
       "    </tr>\n",
       "  </thead>\n",
       "  <tbody>\n",
       "    <tr>\n",
       "      <th>0</th>\n",
       "      <td>63</td>\n",
       "      <td>1</td>\n",
       "      <td>3</td>\n",
       "      <td>145</td>\n",
       "      <td>233</td>\n",
       "      <td>1</td>\n",
       "      <td>0</td>\n",
       "      <td>150</td>\n",
       "      <td>0</td>\n",
       "      <td>2.3</td>\n",
       "      <td>0</td>\n",
       "      <td>0</td>\n",
       "      <td>1</td>\n",
       "      <td>1</td>\n",
       "    </tr>\n",
       "    <tr>\n",
       "      <th>1</th>\n",
       "      <td>37</td>\n",
       "      <td>1</td>\n",
       "      <td>2</td>\n",
       "      <td>130</td>\n",
       "      <td>250</td>\n",
       "      <td>0</td>\n",
       "      <td>1</td>\n",
       "      <td>187</td>\n",
       "      <td>0</td>\n",
       "      <td>3.5</td>\n",
       "      <td>0</td>\n",
       "      <td>0</td>\n",
       "      <td>2</td>\n",
       "      <td>1</td>\n",
       "    </tr>\n",
       "    <tr>\n",
       "      <th>2</th>\n",
       "      <td>41</td>\n",
       "      <td>0</td>\n",
       "      <td>1</td>\n",
       "      <td>130</td>\n",
       "      <td>204</td>\n",
       "      <td>0</td>\n",
       "      <td>0</td>\n",
       "      <td>172</td>\n",
       "      <td>0</td>\n",
       "      <td>1.4</td>\n",
       "      <td>2</td>\n",
       "      <td>0</td>\n",
       "      <td>2</td>\n",
       "      <td>1</td>\n",
       "    </tr>\n",
       "    <tr>\n",
       "      <th>3</th>\n",
       "      <td>56</td>\n",
       "      <td>1</td>\n",
       "      <td>1</td>\n",
       "      <td>120</td>\n",
       "      <td>236</td>\n",
       "      <td>0</td>\n",
       "      <td>1</td>\n",
       "      <td>178</td>\n",
       "      <td>0</td>\n",
       "      <td>0.8</td>\n",
       "      <td>2</td>\n",
       "      <td>0</td>\n",
       "      <td>2</td>\n",
       "      <td>1</td>\n",
       "    </tr>\n",
       "    <tr>\n",
       "      <th>4</th>\n",
       "      <td>57</td>\n",
       "      <td>0</td>\n",
       "      <td>0</td>\n",
       "      <td>120</td>\n",
       "      <td>354</td>\n",
       "      <td>0</td>\n",
       "      <td>1</td>\n",
       "      <td>163</td>\n",
       "      <td>1</td>\n",
       "      <td>0.6</td>\n",
       "      <td>2</td>\n",
       "      <td>0</td>\n",
       "      <td>2</td>\n",
       "      <td>1</td>\n",
       "    </tr>\n",
       "  </tbody>\n",
       "</table>\n",
       "</div>"
      ],
      "text/plain": [
       "   age  sex  cp  trtbps  chol  fbs  restecg  thalachh  exng  oldpeak  slp  \\\n",
       "0   63    1   3     145   233    1        0       150     0      2.3    0   \n",
       "1   37    1   2     130   250    0        1       187     0      3.5    0   \n",
       "2   41    0   1     130   204    0        0       172     0      1.4    2   \n",
       "3   56    1   1     120   236    0        1       178     0      0.8    2   \n",
       "4   57    0   0     120   354    0        1       163     1      0.6    2   \n",
       "\n",
       "   caa  thall  output  \n",
       "0    0      1       1  \n",
       "1    0      2       1  \n",
       "2    0      2       1  \n",
       "3    0      2       1  \n",
       "4    0      2       1  "
      ]
     },
     "execution_count": 2,
     "metadata": {},
     "output_type": "execute_result"
    }
   ],
   "source": [
    "data = pd.read_csv('../input/heart-attack-analysis-prediction-dataset/heart.csv')\n",
    "print(f\"Number of Rows: {data.shape[0]}\\nNumber of Columns: {data.shape[1]}\")\n",
    "data.head()"
   ]
  },
  {
   "cell_type": "code",
   "execution_count": 3,
   "id": "pregnant-retention",
   "metadata": {
    "execution": {
     "iopub.execute_input": "2021-06-27T07:13:45.052268Z",
     "iopub.status.busy": "2021-06-27T07:13:45.051672Z",
     "iopub.status.idle": "2021-06-27T07:13:45.059588Z",
     "shell.execute_reply": "2021-06-27T07:13:45.060083Z",
     "shell.execute_reply.started": "2021-06-27T07:02:07.401610Z"
    },
    "papermill": {
     "duration": 0.047856,
     "end_time": "2021-06-27T07:13:45.060245",
     "exception": false,
     "start_time": "2021-06-27T07:13:45.012389",
     "status": "completed"
    },
    "tags": []
   },
   "outputs": [
    {
     "data": {
      "text/plain": [
       "age         0\n",
       "sex         0\n",
       "cp          0\n",
       "trtbps      0\n",
       "chol        0\n",
       "fbs         0\n",
       "restecg     0\n",
       "thalachh    0\n",
       "exng        0\n",
       "oldpeak     0\n",
       "slp         0\n",
       "caa         0\n",
       "thall       0\n",
       "output      0\n",
       "dtype: int64"
      ]
     },
     "execution_count": 3,
     "metadata": {},
     "output_type": "execute_result"
    }
   ],
   "source": [
    "data.isna().sum()"
   ]
  },
  {
   "cell_type": "code",
   "execution_count": 4,
   "id": "following-slovenia",
   "metadata": {
    "execution": {
     "iopub.execute_input": "2021-06-27T07:13:45.136526Z",
     "iopub.status.busy": "2021-06-27T07:13:45.135577Z",
     "iopub.status.idle": "2021-06-27T07:13:45.192411Z",
     "shell.execute_reply": "2021-06-27T07:13:45.193022Z",
     "shell.execute_reply.started": "2021-06-27T07:02:07.416240Z"
    },
    "papermill": {
     "duration": 0.096243,
     "end_time": "2021-06-27T07:13:45.193182",
     "exception": false,
     "start_time": "2021-06-27T07:13:45.096939",
     "status": "completed"
    },
    "tags": []
   },
   "outputs": [
    {
     "data": {
      "text/html": [
       "<div>\n",
       "<style scoped>\n",
       "    .dataframe tbody tr th:only-of-type {\n",
       "        vertical-align: middle;\n",
       "    }\n",
       "\n",
       "    .dataframe tbody tr th {\n",
       "        vertical-align: top;\n",
       "    }\n",
       "\n",
       "    .dataframe thead th {\n",
       "        text-align: right;\n",
       "    }\n",
       "</style>\n",
       "<table border=\"1\" class=\"dataframe\">\n",
       "  <thead>\n",
       "    <tr style=\"text-align: right;\">\n",
       "      <th></th>\n",
       "      <th>age</th>\n",
       "      <th>sex</th>\n",
       "      <th>cp</th>\n",
       "      <th>trtbps</th>\n",
       "      <th>chol</th>\n",
       "      <th>fbs</th>\n",
       "      <th>restecg</th>\n",
       "      <th>thalachh</th>\n",
       "      <th>exng</th>\n",
       "      <th>oldpeak</th>\n",
       "      <th>slp</th>\n",
       "      <th>caa</th>\n",
       "      <th>thall</th>\n",
       "      <th>output</th>\n",
       "    </tr>\n",
       "  </thead>\n",
       "  <tbody>\n",
       "    <tr>\n",
       "      <th>count</th>\n",
       "      <td>303.000000</td>\n",
       "      <td>303.000000</td>\n",
       "      <td>303.000000</td>\n",
       "      <td>303.000000</td>\n",
       "      <td>303.000000</td>\n",
       "      <td>303.000000</td>\n",
       "      <td>303.000000</td>\n",
       "      <td>303.000000</td>\n",
       "      <td>303.000000</td>\n",
       "      <td>303.000000</td>\n",
       "      <td>303.000000</td>\n",
       "      <td>303.000000</td>\n",
       "      <td>303.000000</td>\n",
       "      <td>303.000000</td>\n",
       "    </tr>\n",
       "    <tr>\n",
       "      <th>mean</th>\n",
       "      <td>54.366337</td>\n",
       "      <td>0.683168</td>\n",
       "      <td>0.966997</td>\n",
       "      <td>131.623762</td>\n",
       "      <td>246.264026</td>\n",
       "      <td>0.148515</td>\n",
       "      <td>0.528053</td>\n",
       "      <td>149.646865</td>\n",
       "      <td>0.326733</td>\n",
       "      <td>1.039604</td>\n",
       "      <td>1.399340</td>\n",
       "      <td>0.729373</td>\n",
       "      <td>2.313531</td>\n",
       "      <td>0.544554</td>\n",
       "    </tr>\n",
       "    <tr>\n",
       "      <th>std</th>\n",
       "      <td>9.082101</td>\n",
       "      <td>0.466011</td>\n",
       "      <td>1.032052</td>\n",
       "      <td>17.538143</td>\n",
       "      <td>51.830751</td>\n",
       "      <td>0.356198</td>\n",
       "      <td>0.525860</td>\n",
       "      <td>22.905161</td>\n",
       "      <td>0.469794</td>\n",
       "      <td>1.161075</td>\n",
       "      <td>0.616226</td>\n",
       "      <td>1.022606</td>\n",
       "      <td>0.612277</td>\n",
       "      <td>0.498835</td>\n",
       "    </tr>\n",
       "    <tr>\n",
       "      <th>min</th>\n",
       "      <td>29.000000</td>\n",
       "      <td>0.000000</td>\n",
       "      <td>0.000000</td>\n",
       "      <td>94.000000</td>\n",
       "      <td>126.000000</td>\n",
       "      <td>0.000000</td>\n",
       "      <td>0.000000</td>\n",
       "      <td>71.000000</td>\n",
       "      <td>0.000000</td>\n",
       "      <td>0.000000</td>\n",
       "      <td>0.000000</td>\n",
       "      <td>0.000000</td>\n",
       "      <td>0.000000</td>\n",
       "      <td>0.000000</td>\n",
       "    </tr>\n",
       "    <tr>\n",
       "      <th>25%</th>\n",
       "      <td>47.500000</td>\n",
       "      <td>0.000000</td>\n",
       "      <td>0.000000</td>\n",
       "      <td>120.000000</td>\n",
       "      <td>211.000000</td>\n",
       "      <td>0.000000</td>\n",
       "      <td>0.000000</td>\n",
       "      <td>133.500000</td>\n",
       "      <td>0.000000</td>\n",
       "      <td>0.000000</td>\n",
       "      <td>1.000000</td>\n",
       "      <td>0.000000</td>\n",
       "      <td>2.000000</td>\n",
       "      <td>0.000000</td>\n",
       "    </tr>\n",
       "    <tr>\n",
       "      <th>50%</th>\n",
       "      <td>55.000000</td>\n",
       "      <td>1.000000</td>\n",
       "      <td>1.000000</td>\n",
       "      <td>130.000000</td>\n",
       "      <td>240.000000</td>\n",
       "      <td>0.000000</td>\n",
       "      <td>1.000000</td>\n",
       "      <td>153.000000</td>\n",
       "      <td>0.000000</td>\n",
       "      <td>0.800000</td>\n",
       "      <td>1.000000</td>\n",
       "      <td>0.000000</td>\n",
       "      <td>2.000000</td>\n",
       "      <td>1.000000</td>\n",
       "    </tr>\n",
       "    <tr>\n",
       "      <th>75%</th>\n",
       "      <td>61.000000</td>\n",
       "      <td>1.000000</td>\n",
       "      <td>2.000000</td>\n",
       "      <td>140.000000</td>\n",
       "      <td>274.500000</td>\n",
       "      <td>0.000000</td>\n",
       "      <td>1.000000</td>\n",
       "      <td>166.000000</td>\n",
       "      <td>1.000000</td>\n",
       "      <td>1.600000</td>\n",
       "      <td>2.000000</td>\n",
       "      <td>1.000000</td>\n",
       "      <td>3.000000</td>\n",
       "      <td>1.000000</td>\n",
       "    </tr>\n",
       "    <tr>\n",
       "      <th>max</th>\n",
       "      <td>77.000000</td>\n",
       "      <td>1.000000</td>\n",
       "      <td>3.000000</td>\n",
       "      <td>200.000000</td>\n",
       "      <td>564.000000</td>\n",
       "      <td>1.000000</td>\n",
       "      <td>2.000000</td>\n",
       "      <td>202.000000</td>\n",
       "      <td>1.000000</td>\n",
       "      <td>6.200000</td>\n",
       "      <td>2.000000</td>\n",
       "      <td>4.000000</td>\n",
       "      <td>3.000000</td>\n",
       "      <td>1.000000</td>\n",
       "    </tr>\n",
       "  </tbody>\n",
       "</table>\n",
       "</div>"
      ],
      "text/plain": [
       "              age         sex          cp      trtbps        chol         fbs  \\\n",
       "count  303.000000  303.000000  303.000000  303.000000  303.000000  303.000000   \n",
       "mean    54.366337    0.683168    0.966997  131.623762  246.264026    0.148515   \n",
       "std      9.082101    0.466011    1.032052   17.538143   51.830751    0.356198   \n",
       "min     29.000000    0.000000    0.000000   94.000000  126.000000    0.000000   \n",
       "25%     47.500000    0.000000    0.000000  120.000000  211.000000    0.000000   \n",
       "50%     55.000000    1.000000    1.000000  130.000000  240.000000    0.000000   \n",
       "75%     61.000000    1.000000    2.000000  140.000000  274.500000    0.000000   \n",
       "max     77.000000    1.000000    3.000000  200.000000  564.000000    1.000000   \n",
       "\n",
       "          restecg    thalachh        exng     oldpeak         slp         caa  \\\n",
       "count  303.000000  303.000000  303.000000  303.000000  303.000000  303.000000   \n",
       "mean     0.528053  149.646865    0.326733    1.039604    1.399340    0.729373   \n",
       "std      0.525860   22.905161    0.469794    1.161075    0.616226    1.022606   \n",
       "min      0.000000   71.000000    0.000000    0.000000    0.000000    0.000000   \n",
       "25%      0.000000  133.500000    0.000000    0.000000    1.000000    0.000000   \n",
       "50%      1.000000  153.000000    0.000000    0.800000    1.000000    0.000000   \n",
       "75%      1.000000  166.000000    1.000000    1.600000    2.000000    1.000000   \n",
       "max      2.000000  202.000000    1.000000    6.200000    2.000000    4.000000   \n",
       "\n",
       "            thall      output  \n",
       "count  303.000000  303.000000  \n",
       "mean     2.313531    0.544554  \n",
       "std      0.612277    0.498835  \n",
       "min      0.000000    0.000000  \n",
       "25%      2.000000    0.000000  \n",
       "50%      2.000000    1.000000  \n",
       "75%      3.000000    1.000000  \n",
       "max      3.000000    1.000000  "
      ]
     },
     "execution_count": 4,
     "metadata": {},
     "output_type": "execute_result"
    }
   ],
   "source": [
    "data.describe()"
   ]
  },
  {
   "cell_type": "code",
   "execution_count": 5,
   "id": "polyphonic-natural",
   "metadata": {
    "execution": {
     "iopub.execute_input": "2021-06-27T07:13:45.269157Z",
     "iopub.status.busy": "2021-06-27T07:13:45.268567Z",
     "iopub.status.idle": "2021-06-27T07:13:45.284897Z",
     "shell.execute_reply": "2021-06-27T07:13:45.285401Z",
     "shell.execute_reply.started": "2021-06-27T07:02:07.494957Z"
    },
    "papermill": {
     "duration": 0.055814,
     "end_time": "2021-06-27T07:13:45.285582",
     "exception": false,
     "start_time": "2021-06-27T07:13:45.229768",
     "status": "completed"
    },
    "tags": []
   },
   "outputs": [
    {
     "name": "stdout",
     "output_type": "stream",
     "text": [
      "<class 'pandas.core.frame.DataFrame'>\n",
      "RangeIndex: 303 entries, 0 to 302\n",
      "Data columns (total 14 columns):\n",
      " #   Column    Non-Null Count  Dtype  \n",
      "---  ------    --------------  -----  \n",
      " 0   age       303 non-null    int64  \n",
      " 1   sex       303 non-null    int64  \n",
      " 2   cp        303 non-null    int64  \n",
      " 3   trtbps    303 non-null    int64  \n",
      " 4   chol      303 non-null    int64  \n",
      " 5   fbs       303 non-null    int64  \n",
      " 6   restecg   303 non-null    int64  \n",
      " 7   thalachh  303 non-null    int64  \n",
      " 8   exng      303 non-null    int64  \n",
      " 9   oldpeak   303 non-null    float64\n",
      " 10  slp       303 non-null    int64  \n",
      " 11  caa       303 non-null    int64  \n",
      " 12  thall     303 non-null    int64  \n",
      " 13  output    303 non-null    int64  \n",
      "dtypes: float64(1), int64(13)\n",
      "memory usage: 33.3 KB\n"
     ]
    }
   ],
   "source": [
    "data.info()"
   ]
  },
  {
   "cell_type": "code",
   "execution_count": 6,
   "id": "equivalent-villa",
   "metadata": {
    "execution": {
     "iopub.execute_input": "2021-06-27T07:13:45.363487Z",
     "iopub.status.busy": "2021-06-27T07:13:45.362877Z",
     "iopub.status.idle": "2021-06-27T07:13:45.467774Z",
     "shell.execute_reply": "2021-06-27T07:13:45.467124Z",
     "shell.execute_reply.started": "2021-06-27T07:02:07.519170Z"
    },
    "papermill": {
     "duration": 0.144884,
     "end_time": "2021-06-27T07:13:45.467981",
     "exception": false,
     "start_time": "2021-06-27T07:13:45.323097",
     "status": "completed"
    },
    "tags": []
   },
   "outputs": [
    {
     "data": {
      "text/html": [
       "        <script type=\"text/javascript\">\n",
       "        window.PlotlyConfig = {MathJaxConfig: 'local'};\n",
       "        if (window.MathJax) {MathJax.Hub.Config({SVG: {font: \"STIX-Web\"}});}\n",
       "        if (typeof require !== 'undefined') {\n",
       "        require.undef(\"plotly\");\n",
       "        requirejs.config({\n",
       "            paths: {\n",
       "                'plotly': ['https://cdn.plot.ly/plotly-latest.min']\n",
       "            }\n",
       "        });\n",
       "        require(['plotly'], function(Plotly) {\n",
       "            window._Plotly = Plotly;\n",
       "        });\n",
       "        }\n",
       "        </script>\n",
       "        "
      ]
     },
     "metadata": {},
     "output_type": "display_data"
    },
    {
     "data": {
      "text/html": [
       "<div>                            <div id=\"46a35291-73f6-4ff7-b7c1-9cd7b581f33e\" class=\"plotly-graph-div\" style=\"height:525px; width:100%;\"></div>            <script type=\"text/javascript\">                require([\"plotly\"], function(Plotly) {                    window.PLOTLYENV=window.PLOTLYENV || {};                                    if (document.getElementById(\"46a35291-73f6-4ff7-b7c1-9cd7b581f33e\")) {                    Plotly.newPlot(                        \"46a35291-73f6-4ff7-b7c1-9cd7b581f33e\",                        [{\"hole\": 0.5, \"labels\": [1, 0], \"type\": \"pie\", \"values\": [165, 138]}],                        {\"template\": {\"data\": {\"bar\": [{\"error_x\": {\"color\": \"#2a3f5f\"}, \"error_y\": {\"color\": \"#2a3f5f\"}, \"marker\": {\"line\": {\"color\": \"#E5ECF6\", \"width\": 0.5}}, \"type\": \"bar\"}], \"barpolar\": [{\"marker\": {\"line\": {\"color\": \"#E5ECF6\", \"width\": 0.5}}, \"type\": \"barpolar\"}], \"carpet\": [{\"aaxis\": {\"endlinecolor\": \"#2a3f5f\", \"gridcolor\": \"white\", \"linecolor\": \"white\", \"minorgridcolor\": \"white\", \"startlinecolor\": \"#2a3f5f\"}, \"baxis\": {\"endlinecolor\": \"#2a3f5f\", \"gridcolor\": \"white\", \"linecolor\": \"white\", \"minorgridcolor\": \"white\", \"startlinecolor\": \"#2a3f5f\"}, \"type\": \"carpet\"}], \"choropleth\": [{\"colorbar\": {\"outlinewidth\": 0, \"ticks\": \"\"}, \"type\": \"choropleth\"}], \"contour\": [{\"colorbar\": {\"outlinewidth\": 0, \"ticks\": \"\"}, \"colorscale\": [[0.0, \"#0d0887\"], [0.1111111111111111, \"#46039f\"], [0.2222222222222222, \"#7201a8\"], [0.3333333333333333, \"#9c179e\"], [0.4444444444444444, \"#bd3786\"], [0.5555555555555556, \"#d8576b\"], [0.6666666666666666, \"#ed7953\"], [0.7777777777777778, \"#fb9f3a\"], [0.8888888888888888, \"#fdca26\"], [1.0, \"#f0f921\"]], \"type\": \"contour\"}], \"contourcarpet\": [{\"colorbar\": {\"outlinewidth\": 0, \"ticks\": \"\"}, \"type\": \"contourcarpet\"}], \"heatmap\": [{\"colorbar\": {\"outlinewidth\": 0, \"ticks\": \"\"}, \"colorscale\": [[0.0, \"#0d0887\"], [0.1111111111111111, \"#46039f\"], [0.2222222222222222, \"#7201a8\"], [0.3333333333333333, \"#9c179e\"], [0.4444444444444444, \"#bd3786\"], [0.5555555555555556, \"#d8576b\"], [0.6666666666666666, \"#ed7953\"], [0.7777777777777778, \"#fb9f3a\"], [0.8888888888888888, \"#fdca26\"], [1.0, \"#f0f921\"]], \"type\": \"heatmap\"}], \"heatmapgl\": [{\"colorbar\": {\"outlinewidth\": 0, \"ticks\": \"\"}, \"colorscale\": [[0.0, \"#0d0887\"], [0.1111111111111111, \"#46039f\"], [0.2222222222222222, \"#7201a8\"], [0.3333333333333333, \"#9c179e\"], [0.4444444444444444, \"#bd3786\"], [0.5555555555555556, \"#d8576b\"], [0.6666666666666666, \"#ed7953\"], [0.7777777777777778, \"#fb9f3a\"], [0.8888888888888888, \"#fdca26\"], [1.0, \"#f0f921\"]], \"type\": \"heatmapgl\"}], \"histogram\": [{\"marker\": {\"colorbar\": {\"outlinewidth\": 0, \"ticks\": \"\"}}, \"type\": \"histogram\"}], \"histogram2d\": [{\"colorbar\": {\"outlinewidth\": 0, \"ticks\": \"\"}, \"colorscale\": [[0.0, \"#0d0887\"], [0.1111111111111111, \"#46039f\"], [0.2222222222222222, \"#7201a8\"], [0.3333333333333333, \"#9c179e\"], [0.4444444444444444, \"#bd3786\"], [0.5555555555555556, \"#d8576b\"], [0.6666666666666666, \"#ed7953\"], [0.7777777777777778, \"#fb9f3a\"], [0.8888888888888888, \"#fdca26\"], [1.0, \"#f0f921\"]], \"type\": \"histogram2d\"}], \"histogram2dcontour\": [{\"colorbar\": {\"outlinewidth\": 0, \"ticks\": \"\"}, \"colorscale\": [[0.0, \"#0d0887\"], [0.1111111111111111, \"#46039f\"], [0.2222222222222222, \"#7201a8\"], [0.3333333333333333, \"#9c179e\"], [0.4444444444444444, \"#bd3786\"], [0.5555555555555556, \"#d8576b\"], [0.6666666666666666, \"#ed7953\"], [0.7777777777777778, \"#fb9f3a\"], [0.8888888888888888, \"#fdca26\"], [1.0, \"#f0f921\"]], \"type\": \"histogram2dcontour\"}], \"mesh3d\": [{\"colorbar\": {\"outlinewidth\": 0, \"ticks\": \"\"}, \"type\": \"mesh3d\"}], \"parcoords\": [{\"line\": {\"colorbar\": {\"outlinewidth\": 0, \"ticks\": \"\"}}, \"type\": \"parcoords\"}], \"pie\": [{\"automargin\": true, \"type\": \"pie\"}], \"scatter\": [{\"marker\": {\"colorbar\": {\"outlinewidth\": 0, \"ticks\": \"\"}}, \"type\": \"scatter\"}], \"scatter3d\": [{\"line\": {\"colorbar\": {\"outlinewidth\": 0, \"ticks\": \"\"}}, \"marker\": {\"colorbar\": {\"outlinewidth\": 0, \"ticks\": \"\"}}, \"type\": \"scatter3d\"}], \"scattercarpet\": [{\"marker\": {\"colorbar\": {\"outlinewidth\": 0, \"ticks\": \"\"}}, \"type\": \"scattercarpet\"}], \"scattergeo\": [{\"marker\": {\"colorbar\": {\"outlinewidth\": 0, \"ticks\": \"\"}}, \"type\": \"scattergeo\"}], \"scattergl\": [{\"marker\": {\"colorbar\": {\"outlinewidth\": 0, \"ticks\": \"\"}}, \"type\": \"scattergl\"}], \"scattermapbox\": [{\"marker\": {\"colorbar\": {\"outlinewidth\": 0, \"ticks\": \"\"}}, \"type\": \"scattermapbox\"}], \"scatterpolar\": [{\"marker\": {\"colorbar\": {\"outlinewidth\": 0, \"ticks\": \"\"}}, \"type\": \"scatterpolar\"}], \"scatterpolargl\": [{\"marker\": {\"colorbar\": {\"outlinewidth\": 0, \"ticks\": \"\"}}, \"type\": \"scatterpolargl\"}], \"scatterternary\": [{\"marker\": {\"colorbar\": {\"outlinewidth\": 0, \"ticks\": \"\"}}, \"type\": \"scatterternary\"}], \"surface\": [{\"colorbar\": {\"outlinewidth\": 0, \"ticks\": \"\"}, \"colorscale\": [[0.0, \"#0d0887\"], [0.1111111111111111, \"#46039f\"], [0.2222222222222222, \"#7201a8\"], [0.3333333333333333, \"#9c179e\"], [0.4444444444444444, \"#bd3786\"], [0.5555555555555556, \"#d8576b\"], [0.6666666666666666, \"#ed7953\"], [0.7777777777777778, \"#fb9f3a\"], [0.8888888888888888, \"#fdca26\"], [1.0, \"#f0f921\"]], \"type\": \"surface\"}], \"table\": [{\"cells\": {\"fill\": {\"color\": \"#EBF0F8\"}, \"line\": {\"color\": \"white\"}}, \"header\": {\"fill\": {\"color\": \"#C8D4E3\"}, \"line\": {\"color\": \"white\"}}, \"type\": \"table\"}]}, \"layout\": {\"annotationdefaults\": {\"arrowcolor\": \"#2a3f5f\", \"arrowhead\": 0, \"arrowwidth\": 1}, \"autotypenumbers\": \"strict\", \"coloraxis\": {\"colorbar\": {\"outlinewidth\": 0, \"ticks\": \"\"}}, \"colorscale\": {\"diverging\": [[0, \"#8e0152\"], [0.1, \"#c51b7d\"], [0.2, \"#de77ae\"], [0.3, \"#f1b6da\"], [0.4, \"#fde0ef\"], [0.5, \"#f7f7f7\"], [0.6, \"#e6f5d0\"], [0.7, \"#b8e186\"], [0.8, \"#7fbc41\"], [0.9, \"#4d9221\"], [1, \"#276419\"]], \"sequential\": [[0.0, \"#0d0887\"], [0.1111111111111111, \"#46039f\"], [0.2222222222222222, \"#7201a8\"], [0.3333333333333333, \"#9c179e\"], [0.4444444444444444, \"#bd3786\"], [0.5555555555555556, \"#d8576b\"], [0.6666666666666666, \"#ed7953\"], [0.7777777777777778, \"#fb9f3a\"], [0.8888888888888888, \"#fdca26\"], [1.0, \"#f0f921\"]], \"sequentialminus\": [[0.0, \"#0d0887\"], [0.1111111111111111, \"#46039f\"], [0.2222222222222222, \"#7201a8\"], [0.3333333333333333, \"#9c179e\"], [0.4444444444444444, \"#bd3786\"], [0.5555555555555556, \"#d8576b\"], [0.6666666666666666, \"#ed7953\"], [0.7777777777777778, \"#fb9f3a\"], [0.8888888888888888, \"#fdca26\"], [1.0, \"#f0f921\"]]}, \"colorway\": [\"#636efa\", \"#EF553B\", \"#00cc96\", \"#ab63fa\", \"#FFA15A\", \"#19d3f3\", \"#FF6692\", \"#B6E880\", \"#FF97FF\", \"#FECB52\"], \"font\": {\"color\": \"#2a3f5f\"}, \"geo\": {\"bgcolor\": \"white\", \"lakecolor\": \"white\", \"landcolor\": \"#E5ECF6\", \"showlakes\": true, \"showland\": true, \"subunitcolor\": \"white\"}, \"hoverlabel\": {\"align\": \"left\"}, \"hovermode\": \"closest\", \"mapbox\": {\"style\": \"light\"}, \"paper_bgcolor\": \"white\", \"plot_bgcolor\": \"#E5ECF6\", \"polar\": {\"angularaxis\": {\"gridcolor\": \"white\", \"linecolor\": \"white\", \"ticks\": \"\"}, \"bgcolor\": \"#E5ECF6\", \"radialaxis\": {\"gridcolor\": \"white\", \"linecolor\": \"white\", \"ticks\": \"\"}}, \"scene\": {\"xaxis\": {\"backgroundcolor\": \"#E5ECF6\", \"gridcolor\": \"white\", \"gridwidth\": 2, \"linecolor\": \"white\", \"showbackground\": true, \"ticks\": \"\", \"zerolinecolor\": \"white\"}, \"yaxis\": {\"backgroundcolor\": \"#E5ECF6\", \"gridcolor\": \"white\", \"gridwidth\": 2, \"linecolor\": \"white\", \"showbackground\": true, \"ticks\": \"\", \"zerolinecolor\": \"white\"}, \"zaxis\": {\"backgroundcolor\": \"#E5ECF6\", \"gridcolor\": \"white\", \"gridwidth\": 2, \"linecolor\": \"white\", \"showbackground\": true, \"ticks\": \"\", \"zerolinecolor\": \"white\"}}, \"shapedefaults\": {\"line\": {\"color\": \"#2a3f5f\"}}, \"ternary\": {\"aaxis\": {\"gridcolor\": \"white\", \"linecolor\": \"white\", \"ticks\": \"\"}, \"baxis\": {\"gridcolor\": \"white\", \"linecolor\": \"white\", \"ticks\": \"\"}, \"bgcolor\": \"#E5ECF6\", \"caxis\": {\"gridcolor\": \"white\", \"linecolor\": \"white\", \"ticks\": \"\"}}, \"title\": {\"x\": 0.05}, \"xaxis\": {\"automargin\": true, \"gridcolor\": \"white\", \"linecolor\": \"white\", \"ticks\": \"\", \"title\": {\"standoff\": 15}, \"zerolinecolor\": \"white\", \"zerolinewidth\": 2}, \"yaxis\": {\"automargin\": true, \"gridcolor\": \"white\", \"linecolor\": \"white\", \"ticks\": \"\", \"title\": {\"standoff\": 15}, \"zerolinecolor\": \"white\", \"zerolinewidth\": 2}}}},                        {\"responsive\": true}                    ).then(function(){\n",
       "                            \n",
       "var gd = document.getElementById('46a35291-73f6-4ff7-b7c1-9cd7b581f33e');\n",
       "var x = new MutationObserver(function (mutations, observer) {{\n",
       "        var display = window.getComputedStyle(gd).display;\n",
       "        if (!display || display === 'none') {{\n",
       "            console.log([gd, 'removed!']);\n",
       "            Plotly.purge(gd);\n",
       "            observer.disconnect();\n",
       "        }}\n",
       "}});\n",
       "\n",
       "// Listen for the removal of the full notebook cells\n",
       "var notebookContainer = gd.closest('#notebook-container');\n",
       "if (notebookContainer) {{\n",
       "    x.observe(notebookContainer, {childList: true});\n",
       "}}\n",
       "\n",
       "// Listen for the clearing of the current output cell\n",
       "var outputEl = gd.closest('.output');\n",
       "if (outputEl) {{\n",
       "    x.observe(outputEl, {childList: true});\n",
       "}}\n",
       "\n",
       "                        })                };                });            </script>        </div>"
      ]
     },
     "metadata": {},
     "output_type": "display_data"
    }
   ],
   "source": [
    "labels = list(data['output'].unique())\n",
    "values = list(data['output'].value_counts())\n",
    "fig = go.Figure(data=[go.Pie(labels=labels, values=values, hole=.5)])\n",
    "fig.show()"
   ]
  },
  {
   "cell_type": "markdown",
   "id": "intelligent-patch",
   "metadata": {
    "papermill": {
     "duration": 0.037628,
     "end_time": "2021-06-27T07:13:45.544348",
     "exception": false,
     "start_time": "2021-06-27T07:13:45.506720",
     "status": "completed"
    },
    "tags": []
   },
   "source": [
    "The DataSet is Balanced"
   ]
  },
  {
   "cell_type": "code",
   "execution_count": 7,
   "id": "sharp-setup",
   "metadata": {
    "execution": {
     "iopub.execute_input": "2021-06-27T07:13:45.633548Z",
     "iopub.status.busy": "2021-06-27T07:13:45.632641Z",
     "iopub.status.idle": "2021-06-27T07:13:45.638778Z",
     "shell.execute_reply": "2021-06-27T07:13:45.637705Z",
     "shell.execute_reply.started": "2021-06-27T07:02:07.652672Z"
    },
    "papermill": {
     "duration": 0.056873,
     "end_time": "2021-06-27T07:13:45.639031",
     "exception": false,
     "start_time": "2021-06-27T07:13:45.582158",
     "status": "completed"
    },
    "tags": []
   },
   "outputs": [
    {
     "name": "stdout",
     "output_type": "stream",
     "text": [
      "<class 'pandas.core.frame.DataFrame'>\n",
      "RangeIndex: 303 entries, 0 to 302\n",
      "Data columns (total 14 columns):\n",
      " #   Column    Non-Null Count  Dtype  \n",
      "---  ------    --------------  -----  \n",
      " 0   age       303 non-null    int64  \n",
      " 1   sex       303 non-null    int64  \n",
      " 2   cp        303 non-null    int64  \n",
      " 3   trtbps    303 non-null    int64  \n",
      " 4   chol      303 non-null    int64  \n",
      " 5   fbs       303 non-null    int64  \n",
      " 6   restecg   303 non-null    int64  \n",
      " 7   thalachh  303 non-null    int64  \n",
      " 8   exng      303 non-null    int64  \n",
      " 9   oldpeak   303 non-null    float64\n",
      " 10  slp       303 non-null    int64  \n",
      " 11  caa       303 non-null    int64  \n",
      " 12  thall     303 non-null    int64  \n",
      " 13  output    303 non-null    int64  \n",
      "dtypes: float64(1), int64(13)\n",
      "memory usage: 33.3 KB\n"
     ]
    }
   ],
   "source": [
    "data.info()"
   ]
  },
  {
   "cell_type": "code",
   "execution_count": 8,
   "id": "increasing-hobby",
   "metadata": {
    "execution": {
     "iopub.execute_input": "2021-06-27T07:13:45.720497Z",
     "iopub.status.busy": "2021-06-27T07:13:45.719926Z",
     "iopub.status.idle": "2021-06-27T07:13:45.771912Z",
     "shell.execute_reply": "2021-06-27T07:13:45.772463Z",
     "shell.execute_reply.started": "2021-06-27T07:02:07.672336Z"
    },
    "papermill": {
     "duration": 0.093879,
     "end_time": "2021-06-27T07:13:45.772648",
     "exception": false,
     "start_time": "2021-06-27T07:13:45.678769",
     "status": "completed"
    },
    "tags": []
   },
   "outputs": [
    {
     "data": {
      "text/html": [
       "<div>\n",
       "<style scoped>\n",
       "    .dataframe tbody tr th:only-of-type {\n",
       "        vertical-align: middle;\n",
       "    }\n",
       "\n",
       "    .dataframe tbody tr th {\n",
       "        vertical-align: top;\n",
       "    }\n",
       "\n",
       "    .dataframe thead th {\n",
       "        text-align: right;\n",
       "    }\n",
       "</style>\n",
       "<table border=\"1\" class=\"dataframe\">\n",
       "  <thead>\n",
       "    <tr style=\"text-align: right;\">\n",
       "      <th></th>\n",
       "      <th>age</th>\n",
       "      <th>sex</th>\n",
       "      <th>cp</th>\n",
       "      <th>trtbps</th>\n",
       "      <th>chol</th>\n",
       "      <th>fbs</th>\n",
       "      <th>restecg</th>\n",
       "      <th>thalachh</th>\n",
       "      <th>exng</th>\n",
       "      <th>oldpeak</th>\n",
       "      <th>slp</th>\n",
       "      <th>caa</th>\n",
       "      <th>thall</th>\n",
       "      <th>output</th>\n",
       "    </tr>\n",
       "  </thead>\n",
       "  <tbody>\n",
       "    <tr>\n",
       "      <th>count</th>\n",
       "      <td>303.000000</td>\n",
       "      <td>303.000000</td>\n",
       "      <td>303.000000</td>\n",
       "      <td>303.000000</td>\n",
       "      <td>303.000000</td>\n",
       "      <td>303.000000</td>\n",
       "      <td>303.000000</td>\n",
       "      <td>303.000000</td>\n",
       "      <td>303.000000</td>\n",
       "      <td>303.000000</td>\n",
       "      <td>303.000000</td>\n",
       "      <td>303.000000</td>\n",
       "      <td>303.000000</td>\n",
       "      <td>303.000000</td>\n",
       "    </tr>\n",
       "    <tr>\n",
       "      <th>mean</th>\n",
       "      <td>54.366337</td>\n",
       "      <td>0.683168</td>\n",
       "      <td>0.966997</td>\n",
       "      <td>131.623762</td>\n",
       "      <td>246.264026</td>\n",
       "      <td>0.148515</td>\n",
       "      <td>0.528053</td>\n",
       "      <td>149.646865</td>\n",
       "      <td>0.326733</td>\n",
       "      <td>1.039604</td>\n",
       "      <td>1.399340</td>\n",
       "      <td>0.729373</td>\n",
       "      <td>2.313531</td>\n",
       "      <td>0.544554</td>\n",
       "    </tr>\n",
       "    <tr>\n",
       "      <th>std</th>\n",
       "      <td>9.082101</td>\n",
       "      <td>0.466011</td>\n",
       "      <td>1.032052</td>\n",
       "      <td>17.538143</td>\n",
       "      <td>51.830751</td>\n",
       "      <td>0.356198</td>\n",
       "      <td>0.525860</td>\n",
       "      <td>22.905161</td>\n",
       "      <td>0.469794</td>\n",
       "      <td>1.161075</td>\n",
       "      <td>0.616226</td>\n",
       "      <td>1.022606</td>\n",
       "      <td>0.612277</td>\n",
       "      <td>0.498835</td>\n",
       "    </tr>\n",
       "    <tr>\n",
       "      <th>min</th>\n",
       "      <td>29.000000</td>\n",
       "      <td>0.000000</td>\n",
       "      <td>0.000000</td>\n",
       "      <td>94.000000</td>\n",
       "      <td>126.000000</td>\n",
       "      <td>0.000000</td>\n",
       "      <td>0.000000</td>\n",
       "      <td>71.000000</td>\n",
       "      <td>0.000000</td>\n",
       "      <td>0.000000</td>\n",
       "      <td>0.000000</td>\n",
       "      <td>0.000000</td>\n",
       "      <td>0.000000</td>\n",
       "      <td>0.000000</td>\n",
       "    </tr>\n",
       "    <tr>\n",
       "      <th>25%</th>\n",
       "      <td>47.500000</td>\n",
       "      <td>0.000000</td>\n",
       "      <td>0.000000</td>\n",
       "      <td>120.000000</td>\n",
       "      <td>211.000000</td>\n",
       "      <td>0.000000</td>\n",
       "      <td>0.000000</td>\n",
       "      <td>133.500000</td>\n",
       "      <td>0.000000</td>\n",
       "      <td>0.000000</td>\n",
       "      <td>1.000000</td>\n",
       "      <td>0.000000</td>\n",
       "      <td>2.000000</td>\n",
       "      <td>0.000000</td>\n",
       "    </tr>\n",
       "    <tr>\n",
       "      <th>50%</th>\n",
       "      <td>55.000000</td>\n",
       "      <td>1.000000</td>\n",
       "      <td>1.000000</td>\n",
       "      <td>130.000000</td>\n",
       "      <td>240.000000</td>\n",
       "      <td>0.000000</td>\n",
       "      <td>1.000000</td>\n",
       "      <td>153.000000</td>\n",
       "      <td>0.000000</td>\n",
       "      <td>0.800000</td>\n",
       "      <td>1.000000</td>\n",
       "      <td>0.000000</td>\n",
       "      <td>2.000000</td>\n",
       "      <td>1.000000</td>\n",
       "    </tr>\n",
       "    <tr>\n",
       "      <th>75%</th>\n",
       "      <td>61.000000</td>\n",
       "      <td>1.000000</td>\n",
       "      <td>2.000000</td>\n",
       "      <td>140.000000</td>\n",
       "      <td>274.500000</td>\n",
       "      <td>0.000000</td>\n",
       "      <td>1.000000</td>\n",
       "      <td>166.000000</td>\n",
       "      <td>1.000000</td>\n",
       "      <td>1.600000</td>\n",
       "      <td>2.000000</td>\n",
       "      <td>1.000000</td>\n",
       "      <td>3.000000</td>\n",
       "      <td>1.000000</td>\n",
       "    </tr>\n",
       "    <tr>\n",
       "      <th>max</th>\n",
       "      <td>77.000000</td>\n",
       "      <td>1.000000</td>\n",
       "      <td>3.000000</td>\n",
       "      <td>200.000000</td>\n",
       "      <td>564.000000</td>\n",
       "      <td>1.000000</td>\n",
       "      <td>2.000000</td>\n",
       "      <td>202.000000</td>\n",
       "      <td>1.000000</td>\n",
       "      <td>6.200000</td>\n",
       "      <td>2.000000</td>\n",
       "      <td>4.000000</td>\n",
       "      <td>3.000000</td>\n",
       "      <td>1.000000</td>\n",
       "    </tr>\n",
       "  </tbody>\n",
       "</table>\n",
       "</div>"
      ],
      "text/plain": [
       "              age         sex          cp      trtbps        chol         fbs  \\\n",
       "count  303.000000  303.000000  303.000000  303.000000  303.000000  303.000000   \n",
       "mean    54.366337    0.683168    0.966997  131.623762  246.264026    0.148515   \n",
       "std      9.082101    0.466011    1.032052   17.538143   51.830751    0.356198   \n",
       "min     29.000000    0.000000    0.000000   94.000000  126.000000    0.000000   \n",
       "25%     47.500000    0.000000    0.000000  120.000000  211.000000    0.000000   \n",
       "50%     55.000000    1.000000    1.000000  130.000000  240.000000    0.000000   \n",
       "75%     61.000000    1.000000    2.000000  140.000000  274.500000    0.000000   \n",
       "max     77.000000    1.000000    3.000000  200.000000  564.000000    1.000000   \n",
       "\n",
       "          restecg    thalachh        exng     oldpeak         slp         caa  \\\n",
       "count  303.000000  303.000000  303.000000  303.000000  303.000000  303.000000   \n",
       "mean     0.528053  149.646865    0.326733    1.039604    1.399340    0.729373   \n",
       "std      0.525860   22.905161    0.469794    1.161075    0.616226    1.022606   \n",
       "min      0.000000   71.000000    0.000000    0.000000    0.000000    0.000000   \n",
       "25%      0.000000  133.500000    0.000000    0.000000    1.000000    0.000000   \n",
       "50%      1.000000  153.000000    0.000000    0.800000    1.000000    0.000000   \n",
       "75%      1.000000  166.000000    1.000000    1.600000    2.000000    1.000000   \n",
       "max      2.000000  202.000000    1.000000    6.200000    2.000000    4.000000   \n",
       "\n",
       "            thall      output  \n",
       "count  303.000000  303.000000  \n",
       "mean     2.313531    0.544554  \n",
       "std      0.612277    0.498835  \n",
       "min      0.000000    0.000000  \n",
       "25%      2.000000    0.000000  \n",
       "50%      2.000000    1.000000  \n",
       "75%      3.000000    1.000000  \n",
       "max      3.000000    1.000000  "
      ]
     },
     "execution_count": 8,
     "metadata": {},
     "output_type": "execute_result"
    }
   ],
   "source": [
    "data.describe()"
   ]
  },
  {
   "cell_type": "code",
   "execution_count": 9,
   "id": "sonic-array",
   "metadata": {
    "execution": {
     "iopub.execute_input": "2021-06-27T07:13:45.855817Z",
     "iopub.status.busy": "2021-06-27T07:13:45.855176Z",
     "iopub.status.idle": "2021-06-27T07:13:45.860028Z",
     "shell.execute_reply": "2021-06-27T07:13:45.860618Z",
     "shell.execute_reply.started": "2021-06-27T07:02:07.741200Z"
    },
    "papermill": {
     "duration": 0.04818,
     "end_time": "2021-06-27T07:13:45.860791",
     "exception": false,
     "start_time": "2021-06-27T07:13:45.812611",
     "status": "completed"
    },
    "tags": []
   },
   "outputs": [
    {
     "data": {
      "text/plain": [
       "Index(['age', 'sex', 'cp', 'trtbps', 'chol', 'fbs', 'restecg', 'thalachh',\n",
       "       'exng', 'oldpeak', 'slp', 'caa', 'thall', 'output'],\n",
       "      dtype='object')"
      ]
     },
     "execution_count": 9,
     "metadata": {},
     "output_type": "execute_result"
    }
   ],
   "source": [
    "data.columns"
   ]
  },
  {
   "cell_type": "code",
   "execution_count": 10,
   "id": "common-running",
   "metadata": {
    "execution": {
     "iopub.execute_input": "2021-06-27T07:13:45.942755Z",
     "iopub.status.busy": "2021-06-27T07:13:45.942128Z",
     "iopub.status.idle": "2021-06-27T07:13:47.055962Z",
     "shell.execute_reply": "2021-06-27T07:13:47.056450Z",
     "shell.execute_reply.started": "2021-06-27T07:02:07.749259Z"
    },
    "papermill": {
     "duration": 1.156475,
     "end_time": "2021-06-27T07:13:47.056646",
     "exception": false,
     "start_time": "2021-06-27T07:13:45.900171",
     "status": "completed"
    },
    "tags": []
   },
   "outputs": [
    {
     "data": {
      "text/plain": [
       "<AxesSubplot:>"
      ]
     },
     "execution_count": 10,
     "metadata": {},
     "output_type": "execute_result"
    },
    {
     "data": {
      "image/png": "[encoded data removed]",
      "text/plain": [
       "<Figure size 1080x720 with 1 Axes>"
      ]
     },
     "metadata": {},
     "output_type": "display_data"
    }
   ],
   "source": [
    "sns.set(rc = {'figure.figsize':(15,10)})\n",
    "sns.heatmap(data.corr(),annot=True,linewidths=0.4,\n",
    "    linecolor='Black',\n",
    "    cbar=False,cmap = 'plasma')"
   ]
  },
  {
   "cell_type": "markdown",
   "id": "sudden-equation",
   "metadata": {
    "papermill": {
     "duration": 0.043312,
     "end_time": "2021-06-27T07:13:47.143473",
     "exception": false,
     "start_time": "2021-06-27T07:13:47.100161",
     "status": "completed"
    },
    "tags": []
   },
   "source": [
    "1. Positivily Correlated Variables:\n",
    "* thalachh\n",
    "* cp\n",
    "* sip\n",
    "* restecg\n",
    "2. Negativily Correalated Variables:\n",
    "* exng \n",
    "* oldpeak\n",
    "* caa\n",
    "* thall"
   ]
  },
  {
   "cell_type": "code",
   "execution_count": 11,
   "id": "wrong-bradford",
   "metadata": {
    "execution": {
     "iopub.execute_input": "2021-06-27T07:13:47.234244Z",
     "iopub.status.busy": "2021-06-27T07:13:47.233265Z",
     "iopub.status.idle": "2021-06-27T07:13:47.604716Z",
     "shell.execute_reply": "2021-06-27T07:13:47.605236Z",
     "shell.execute_reply.started": "2021-06-27T07:02:08.924851Z"
    },
    "papermill": {
     "duration": 0.418283,
     "end_time": "2021-06-27T07:13:47.605406",
     "exception": false,
     "start_time": "2021-06-27T07:13:47.187123",
     "status": "completed"
    },
    "tags": []
   },
   "outputs": [
    {
     "data": {
      "text/plain": [
       "<AxesSubplot:>"
      ]
     },
     "execution_count": 11,
     "metadata": {},
     "output_type": "execute_result"
    },
    {
     "data": {
      "image/png": "[encoded data removed]",
      "text/plain": [
       "<Figure size 1080x720 with 2 Axes>"
      ]
     },
     "metadata": {},
     "output_type": "display_data"
    }
   ],
   "source": [
    "sns.set(rc = {'figure.figsize':(15,10)})\n",
    "sns.heatmap(data.isnull(),cmap = 'plasma',yticklabels = False)"
   ]
  },
  {
   "cell_type": "markdown",
   "id": "global-camping",
   "metadata": {
    "papermill": {
     "duration": 0.045614,
     "end_time": "2021-06-27T07:13:47.696365",
     "exception": false,
     "start_time": "2021-06-27T07:13:47.650751",
     "status": "completed"
    },
    "tags": []
   },
   "source": [
    "The Datasets contains Zero Nulls values"
   ]
  },
  {
   "cell_type": "markdown",
   "id": "confirmed-hypothesis",
   "metadata": {
    "papermill": {
     "duration": 0.044963,
     "end_time": "2021-06-27T07:13:47.786660",
     "exception": false,
     "start_time": "2021-06-27T07:13:47.741697",
     "status": "completed"
    },
    "tags": []
   },
   "source": [
    "# Univariate analysis"
   ]
  },
  {
   "cell_type": "code",
   "execution_count": 12,
   "id": "automatic-humanitarian",
   "metadata": {
    "execution": {
     "iopub.execute_input": "2021-06-27T07:13:47.886896Z",
     "iopub.status.busy": "2021-06-27T07:13:47.886187Z",
     "iopub.status.idle": "2021-06-27T07:13:47.890767Z",
     "shell.execute_reply": "2021-06-27T07:13:47.891258Z",
     "shell.execute_reply.started": "2021-06-27T07:02:09.324075Z"
    },
    "papermill": {
     "duration": 0.059869,
     "end_time": "2021-06-27T07:13:47.891421",
     "exception": false,
     "start_time": "2021-06-27T07:13:47.831552",
     "status": "completed"
    },
    "tags": []
   },
   "outputs": [
    {
     "data": {
      "text/html": [
       "<div>                            <div id=\"42263da9-ccb4-4273-ac44-d52d3ca12615\" class=\"plotly-graph-div\" style=\"height:525px; width:100%;\"></div>            <script type=\"text/javascript\">                require([\"plotly\"], function(Plotly) {                    window.PLOTLYENV=window.PLOTLYENV || {};                                    if (document.getElementById(\"42263da9-ccb4-4273-ac44-d52d3ca12615\")) {                    Plotly.newPlot(                        \"42263da9-ccb4-4273-ac44-d52d3ca12615\",                        [{\"labels\": [1, 0], \"type\": \"pie\", \"values\": [207, 96]}],                        {\"template\": {\"data\": {\"bar\": [{\"error_x\": {\"color\": \"#2a3f5f\"}, \"error_y\": {\"color\": \"#2a3f5f\"}, \"marker\": {\"line\": {\"color\": \"#E5ECF6\", \"width\": 0.5}}, \"type\": \"bar\"}], \"barpolar\": [{\"marker\": {\"line\": {\"color\": \"#E5ECF6\", \"width\": 0.5}}, \"type\": \"barpolar\"}], \"carpet\": [{\"aaxis\": {\"endlinecolor\": \"#2a3f5f\", \"gridcolor\": \"white\", \"linecolor\": \"white\", \"minorgridcolor\": \"white\", \"startlinecolor\": \"#2a3f5f\"}, \"baxis\": {\"endlinecolor\": \"#2a3f5f\", \"gridcolor\": \"white\", \"linecolor\": \"white\", \"minorgridcolor\": \"white\", \"startlinecolor\": \"#2a3f5f\"}, \"type\": \"carpet\"}], \"choropleth\": [{\"colorbar\": {\"outlinewidth\": 0, \"ticks\": \"\"}, \"type\": \"choropleth\"}], \"contour\": [{\"colorbar\": {\"outlinewidth\": 0, \"ticks\": \"\"}, \"colorscale\": [[0.0, \"#0d0887\"], [0.1111111111111111, \"#46039f\"], [0.2222222222222222, \"#7201a8\"], [0.3333333333333333, \"#9c179e\"], [0.4444444444444444, \"#bd3786\"], [0.5555555555555556, \"#d8576b\"], [0.6666666666666666, \"#ed7953\"], [0.7777777777777778, \"#fb9f3a\"], [0.8888888888888888, \"#fdca26\"], [1.0, \"#f0f921\"]], \"type\": \"contour\"}], \"contourcarpet\": [{\"colorbar\": {\"outlinewidth\": 0, \"ticks\": \"\"}, \"type\": \"contourcarpet\"}], \"heatmap\": [{\"colorbar\": {\"outlinewidth\": 0, \"ticks\": \"\"}, \"colorscale\": [[0.0, \"#0d0887\"], [0.1111111111111111, \"#46039f\"], [0.2222222222222222, \"#7201a8\"], [0.3333333333333333, \"#9c179e\"], [0.4444444444444444, \"#bd3786\"], [0.5555555555555556, \"#d8576b\"], [0.6666666666666666, \"#ed7953\"], [0.7777777777777778, \"#fb9f3a\"], [0.8888888888888888, \"#fdca26\"], [1.0, \"#f0f921\"]], \"type\": \"heatmap\"}], \"heatmapgl\": [{\"colorbar\": {\"outlinewidth\": 0, \"ticks\": \"\"}, \"colorscale\": [[0.0, \"#0d0887\"], [0.1111111111111111, \"#46039f\"], [0.2222222222222222, \"#7201a8\"], [0.3333333333333333, \"#9c179e\"], [0.4444444444444444, \"#bd3786\"], [0.5555555555555556, \"#d8576b\"], [0.6666666666666666, \"#ed7953\"], [0.7777777777777778, \"#fb9f3a\"], [0.8888888888888888, \"#fdca26\"], [1.0, \"#f0f921\"]], \"type\": \"heatmapgl\"}], \"histogram\": [{\"marker\": {\"colorbar\": {\"outlinewidth\": 0, \"ticks\": \"\"}}, \"type\": \"histogram\"}], \"histogram2d\": [{\"colorbar\": {\"outlinewidth\": 0, \"ticks\": \"\"}, \"colorscale\": [[0.0, \"#0d0887\"], [0.1111111111111111, \"#46039f\"], [0.2222222222222222, \"#7201a8\"], [0.3333333333333333, \"#9c179e\"], [0.4444444444444444, \"#bd3786\"], [0.5555555555555556, \"#d8576b\"], [0.6666666666666666, \"#ed7953\"], [0.7777777777777778, \"#fb9f3a\"], [0.8888888888888888, \"#fdca26\"], [1.0, \"#f0f921\"]], \"type\": \"histogram2d\"}], \"histogram2dcontour\": [{\"colorbar\": {\"outlinewidth\": 0, \"ticks\": \"\"}, \"colorscale\": [[0.0, \"#0d0887\"], [0.1111111111111111, \"#46039f\"], [0.2222222222222222, \"#7201a8\"], [0.3333333333333333, \"#9c179e\"], [0.4444444444444444, \"#bd3786\"], [0.5555555555555556, \"#d8576b\"], [0.6666666666666666, \"#ed7953\"], [0.7777777777777778, \"#fb9f3a\"], [0.8888888888888888, \"#fdca26\"], [1.0, \"#f0f921\"]], \"type\": \"histogram2dcontour\"}], \"mesh3d\": [{\"colorbar\": {\"outlinewidth\": 0, \"ticks\": \"\"}, \"type\": \"mesh3d\"}], \"parcoords\": [{\"line\": {\"colorbar\": {\"outlinewidth\": 0, \"ticks\": \"\"}}, \"type\": \"parcoords\"}], \"pie\": [{\"automargin\": true, \"type\": \"pie\"}], \"scatter\": [{\"marker\": {\"colorbar\": {\"outlinewidth\": 0, \"ticks\": \"\"}}, \"type\": \"scatter\"}], \"scatter3d\": [{\"line\": {\"colorbar\": {\"outlinewidth\": 0, \"ticks\": \"\"}}, \"marker\": {\"colorbar\": {\"outlinewidth\": 0, \"ticks\": \"\"}}, \"type\": \"scatter3d\"}], \"scattercarpet\": [{\"marker\": {\"colorbar\": {\"outlinewidth\": 0, \"ticks\": \"\"}}, \"type\": \"scattercarpet\"}], \"scattergeo\": [{\"marker\": {\"colorbar\": {\"outlinewidth\": 0, \"ticks\": \"\"}}, \"type\": \"scattergeo\"}], \"scattergl\": [{\"marker\": {\"colorbar\": {\"outlinewidth\": 0, \"ticks\": \"\"}}, \"type\": \"scattergl\"}], \"scattermapbox\": [{\"marker\": {\"colorbar\": {\"outlinewidth\": 0, \"ticks\": \"\"}}, \"type\": \"scattermapbox\"}], \"scatterpolar\": [{\"marker\": {\"colorbar\": {\"outlinewidth\": 0, \"ticks\": \"\"}}, \"type\": \"scatterpolar\"}], \"scatterpolargl\": [{\"marker\": {\"colorbar\": {\"outlinewidth\": 0, \"ticks\": \"\"}}, \"type\": \"scatterpolargl\"}], \"scatterternary\": [{\"marker\": {\"colorbar\": {\"outlinewidth\": 0, \"ticks\": \"\"}}, \"type\": \"scatterternary\"}], \"surface\": [{\"colorbar\": {\"outlinewidth\": 0, \"ticks\": \"\"}, \"colorscale\": [[0.0, \"#0d0887\"], [0.1111111111111111, \"#46039f\"], [0.2222222222222222, \"#7201a8\"], [0.3333333333333333, \"#9c179e\"], [0.4444444444444444, \"#bd3786\"], [0.5555555555555556, \"#d8576b\"], [0.6666666666666666, \"#ed7953\"], [0.7777777777777778, \"#fb9f3a\"], [0.8888888888888888, \"#fdca26\"], [1.0, \"#f0f921\"]], \"type\": \"surface\"}], \"table\": [{\"cells\": {\"fill\": {\"color\": \"#EBF0F8\"}, \"line\": {\"color\": \"white\"}}, \"header\": {\"fill\": {\"color\": \"#C8D4E3\"}, \"line\": {\"color\": \"white\"}}, \"type\": \"table\"}]}, \"layout\": {\"annotationdefaults\": {\"arrowcolor\": \"#2a3f5f\", \"arrowhead\": 0, \"arrowwidth\": 1}, \"autotypenumbers\": \"strict\", \"coloraxis\": {\"colorbar\": {\"outlinewidth\": 0, \"ticks\": \"\"}}, \"colorscale\": {\"diverging\": [[0, \"#8e0152\"], [0.1, \"#c51b7d\"], [0.2, \"#de77ae\"], [0.3, \"#f1b6da\"], [0.4, \"#fde0ef\"], [0.5, \"#f7f7f7\"], [0.6, \"#e6f5d0\"], [0.7, \"#b8e186\"], [0.8, \"#7fbc41\"], [0.9, \"#4d9221\"], [1, \"#276419\"]], \"sequential\": [[0.0, \"#0d0887\"], [0.1111111111111111, \"#46039f\"], [0.2222222222222222, \"#7201a8\"], [0.3333333333333333, \"#9c179e\"], [0.4444444444444444, \"#bd3786\"], [0.5555555555555556, \"#d8576b\"], [0.6666666666666666, \"#ed7953\"], [0.7777777777777778, \"#fb9f3a\"], [0.8888888888888888, \"#fdca26\"], [1.0, \"#f0f921\"]], \"sequentialminus\": [[0.0, \"#0d0887\"], [0.1111111111111111, \"#46039f\"], [0.2222222222222222, \"#7201a8\"], [0.3333333333333333, \"#9c179e\"], [0.4444444444444444, \"#bd3786\"], [0.5555555555555556, \"#d8576b\"], [0.6666666666666666, \"#ed7953\"], [0.7777777777777778, \"#fb9f3a\"], [0.8888888888888888, \"#fdca26\"], [1.0, \"#f0f921\"]]}, \"colorway\": [\"#636efa\", \"#EF553B\", \"#00cc96\", \"#ab63fa\", \"#FFA15A\", \"#19d3f3\", \"#FF6692\", \"#B6E880\", \"#FF97FF\", \"#FECB52\"], \"font\": {\"color\": \"#2a3f5f\"}, \"geo\": {\"bgcolor\": \"white\", \"lakecolor\": \"white\", \"landcolor\": \"#E5ECF6\", \"showlakes\": true, \"showland\": true, \"subunitcolor\": \"white\"}, \"hoverlabel\": {\"align\": \"left\"}, \"hovermode\": \"closest\", \"mapbox\": {\"style\": \"light\"}, \"paper_bgcolor\": \"white\", \"plot_bgcolor\": \"#E5ECF6\", \"polar\": {\"angularaxis\": {\"gridcolor\": \"white\", \"linecolor\": \"white\", \"ticks\": \"\"}, \"bgcolor\": \"#E5ECF6\", \"radialaxis\": {\"gridcolor\": \"white\", \"linecolor\": \"white\", \"ticks\": \"\"}}, \"scene\": {\"xaxis\": {\"backgroundcolor\": \"#E5ECF6\", \"gridcolor\": \"white\", \"gridwidth\": 2, \"linecolor\": \"white\", \"showbackground\": true, \"ticks\": \"\", \"zerolinecolor\": \"white\"}, \"yaxis\": {\"backgroundcolor\": \"#E5ECF6\", \"gridcolor\": \"white\", \"gridwidth\": 2, \"linecolor\": \"white\", \"showbackground\": true, \"ticks\": \"\", \"zerolinecolor\": \"white\"}, \"zaxis\": {\"backgroundcolor\": \"#E5ECF6\", \"gridcolor\": \"white\", \"gridwidth\": 2, \"linecolor\": \"white\", \"showbackground\": true, \"ticks\": \"\", \"zerolinecolor\": \"white\"}}, \"shapedefaults\": {\"line\": {\"color\": \"#2a3f5f\"}}, \"ternary\": {\"aaxis\": {\"gridcolor\": \"white\", \"linecolor\": \"white\", \"ticks\": \"\"}, \"baxis\": {\"gridcolor\": \"white\", \"linecolor\": \"white\", \"ticks\": \"\"}, \"bgcolor\": \"#E5ECF6\", \"caxis\": {\"gridcolor\": \"white\", \"linecolor\": \"white\", \"ticks\": \"\"}}, \"title\": {\"x\": 0.05}, \"xaxis\": {\"automargin\": true, \"gridcolor\": \"white\", \"linecolor\": \"white\", \"ticks\": \"\", \"title\": {\"standoff\": 15}, \"zerolinecolor\": \"white\", \"zerolinewidth\": 2}, \"yaxis\": {\"automargin\": true, \"gridcolor\": \"white\", \"linecolor\": \"white\", \"ticks\": \"\", \"title\": {\"standoff\": 15}, \"zerolinecolor\": \"white\", \"zerolinewidth\": 2}}}},                        {\"responsive\": true}                    ).then(function(){\n",
       "                            \n",
       "var gd = document.getElementById('42263da9-ccb4-4273-ac44-d52d3ca12615');\n",
       "var x = new MutationObserver(function (mutations, observer) {{\n",
       "        var display = window.getComputedStyle(gd).display;\n",
       "        if (!display || display === 'none') {{\n",
       "            console.log([gd, 'removed!']);\n",
       "            Plotly.purge(gd);\n",
       "            observer.disconnect();\n",
       "        }}\n",
       "}});\n",
       "\n",
       "// Listen for the removal of the full notebook cells\n",
       "var notebookContainer = gd.closest('#notebook-container');\n",
       "if (notebookContainer) {{\n",
       "    x.observe(notebookContainer, {childList: true});\n",
       "}}\n",
       "\n",
       "// Listen for the clearing of the current output cell\n",
       "var outputEl = gd.closest('.output');\n",
       "if (outputEl) {{\n",
       "    x.observe(outputEl, {childList: true});\n",
       "}}\n",
       "\n",
       "                        })                };                });            </script>        </div>"
      ]
     },
     "metadata": {},
     "output_type": "display_data"
    }
   ],
   "source": [
    "labels = list(data['sex'].unique())\n",
    "values = list(data['sex'].value_counts())\n",
    "fig = go.Figure(data=[go.Pie(labels=labels, values=values)])\n",
    "fig.show()"
   ]
  },
  {
   "cell_type": "markdown",
   "id": "billion-clinton",
   "metadata": {
    "papermill": {
     "duration": 0.046578,
     "end_time": "2021-06-27T07:13:47.983544",
     "exception": false,
     "start_time": "2021-06-27T07:13:47.936966",
     "status": "completed"
    },
    "tags": []
   },
   "source": [
    "The number of Male(68.3%) is greater than Female(31.7%)"
   ]
  },
  {
   "cell_type": "code",
   "execution_count": 13,
   "id": "informal-challenge",
   "metadata": {
    "execution": {
     "iopub.execute_input": "2021-06-27T07:13:48.080921Z",
     "iopub.status.busy": "2021-06-27T07:13:48.080276Z",
     "iopub.status.idle": "2021-06-27T07:13:48.273243Z",
     "shell.execute_reply": "2021-06-27T07:13:48.273812Z",
     "shell.execute_reply.started": "2021-06-27T07:02:09.340263Z"
    },
    "papermill": {
     "duration": 0.244659,
     "end_time": "2021-06-27T07:13:48.273981",
     "exception": false,
     "start_time": "2021-06-27T07:13:48.029322",
     "status": "completed"
    },
    "tags": []
   },
   "outputs": [
    {
     "data": {
      "text/plain": [
       "<AxesSubplot:title={'center':'Major Vessels'}>"
      ]
     },
     "execution_count": 13,
     "metadata": {},
     "output_type": "execute_result"
    },
    {
     "data": {
      "image/png": "[encoded data removed]",
      "text/plain": [
       "<Figure size 1080x720 with 1 Axes>"
      ]
     },
     "metadata": {},
     "output_type": "display_data"
    }
   ],
   "source": [
    "data['cp'].value_counts(normalize=True).plot.bar(color=['green','blue','purple','red'],edgecolor='black',title='Major Vessels')"
   ]
  },
  {
   "cell_type": "code",
   "execution_count": 14,
   "id": "saved-michael",
   "metadata": {
    "execution": {
     "iopub.execute_input": "2021-06-27T07:13:48.371888Z",
     "iopub.status.busy": "2021-06-27T07:13:48.370952Z",
     "iopub.status.idle": "2021-06-27T07:13:48.995069Z",
     "shell.execute_reply": "2021-06-27T07:13:48.994460Z",
     "shell.execute_reply.started": "2021-06-27T07:02:09.576040Z"
    },
    "papermill": {
     "duration": 0.674423,
     "end_time": "2021-06-27T07:13:48.995211",
     "exception": false,
     "start_time": "2021-06-27T07:13:48.320788",
     "status": "completed"
    },
    "tags": []
   },
   "outputs": [
    {
     "data": {
      "text/plain": [
       "Text(0.5, 1.0, 'Age Count')"
      ]
     },
     "execution_count": 14,
     "metadata": {},
     "output_type": "execute_result"
    },
    {
     "data": {
      "image/png": "[encoded data removed]",
      "text/plain": [
       "<Figure size 1080x720 with 1 Axes>"
      ]
     },
     "metadata": {},
     "output_type": "display_data"
    }
   ],
   "source": [
    "sns.countplot(data=data,x='age')\n",
    "plt.title( 'Age Count')"
   ]
  },
  {
   "cell_type": "code",
   "execution_count": 15,
   "id": "final-theory",
   "metadata": {
    "execution": {
     "iopub.execute_input": "2021-06-27T07:13:49.120423Z",
     "iopub.status.busy": "2021-06-27T07:13:49.119371Z",
     "iopub.status.idle": "2021-06-27T07:13:49.327363Z",
     "shell.execute_reply": "2021-06-27T07:13:49.326868Z",
     "shell.execute_reply.started": "2021-06-27T07:02:10.242188Z"
    },
    "papermill": {
     "duration": 0.284127,
     "end_time": "2021-06-27T07:13:49.327499",
     "exception": false,
     "start_time": "2021-06-27T07:13:49.043372",
     "status": "completed"
    },
    "tags": []
   },
   "outputs": [
    {
     "data": {
      "text/plain": [
       "<AxesSubplot:xlabel='age', ylabel='Count'>"
      ]
     },
     "execution_count": 15,
     "metadata": {},
     "output_type": "execute_result"
    },
    {
     "data": {
      "image/png": "[encoded data removed]",
      "text/plain": [
       "<Figure size 1080x720 with 1 Axes>"
      ]
     },
     "metadata": {},
     "output_type": "display_data"
    }
   ],
   "source": [
    "sns.histplot(data,x = data['age'],bins = 10,)"
   ]
  },
  {
   "cell_type": "markdown",
   "id": "smart-polish",
   "metadata": {
    "papermill": {
     "duration": 0.04832,
     "end_time": "2021-06-27T07:13:49.425806",
     "exception": false,
     "start_time": "2021-06-27T07:13:49.377486",
     "status": "completed"
    },
    "tags": []
   },
   "source": [
    "# Splitting the Data"
   ]
  },
  {
   "cell_type": "code",
   "execution_count": 16,
   "id": "banned-fraud",
   "metadata": {
    "execution": {
     "iopub.execute_input": "2021-06-27T07:13:49.529548Z",
     "iopub.status.busy": "2021-06-27T07:13:49.528576Z",
     "iopub.status.idle": "2021-06-27T07:13:49.530963Z",
     "shell.execute_reply": "2021-06-27T07:13:49.531383Z",
     "shell.execute_reply.started": "2021-06-27T07:02:10.494187Z"
    },
    "papermill": {
     "duration": 0.057021,
     "end_time": "2021-06-27T07:13:49.531563",
     "exception": false,
     "start_time": "2021-06-27T07:13:49.474542",
     "status": "completed"
    },
    "tags": []
   },
   "outputs": [],
   "source": [
    "X = data.drop('output',axis = 1)\n",
    "y = data.output"
   ]
  },
  {
   "cell_type": "code",
   "execution_count": 17,
   "id": "blind-socket",
   "metadata": {
    "execution": {
     "iopub.execute_input": "2021-06-27T07:13:49.635184Z",
     "iopub.status.busy": "2021-06-27T07:13:49.634576Z",
     "iopub.status.idle": "2021-06-27T07:13:49.636279Z",
     "shell.execute_reply": "2021-06-27T07:13:49.636723Z",
     "shell.execute_reply.started": "2021-06-27T07:02:10.503050Z"
    },
    "papermill": {
     "duration": 0.056661,
     "end_time": "2021-06-27T07:13:49.636884",
     "exception": false,
     "start_time": "2021-06-27T07:13:49.580223",
     "status": "completed"
    },
    "tags": []
   },
   "outputs": [],
   "source": [
    "Xtrain,Xtest,ytrain,ytest = train_test_split(X,y,test_size = 0.25,shuffle = True)"
   ]
  },
  {
   "cell_type": "markdown",
   "id": "running-spanish",
   "metadata": {
    "papermill": {
     "duration": 0.048427,
     "end_time": "2021-06-27T07:13:49.734070",
     "exception": false,
     "start_time": "2021-06-27T07:13:49.685643",
     "status": "completed"
    },
    "tags": []
   },
   "source": [
    "# Statistical Inference & Feature Selection "
   ]
  },
  {
   "cell_type": "code",
   "execution_count": 18,
   "id": "rolled-notebook",
   "metadata": {
    "execution": {
     "iopub.execute_input": "2021-06-27T07:13:49.834475Z",
     "iopub.status.busy": "2021-06-27T07:13:49.833813Z",
     "iopub.status.idle": "2021-06-27T07:13:49.868704Z",
     "shell.execute_reply": "2021-06-27T07:13:49.867358Z",
     "shell.execute_reply.started": "2021-06-27T07:02:10.522069Z"
    },
    "papermill": {
     "duration": 0.086256,
     "end_time": "2021-06-27T07:13:49.868996",
     "exception": false,
     "start_time": "2021-06-27T07:13:49.782740",
     "status": "completed"
    },
    "tags": []
   },
   "outputs": [
    {
     "name": "stdout",
     "output_type": "stream",
     "text": [
      "Optimization terminated successfully.\n",
      "         Current function value: 0.304047\n",
      "         Iterations 8\n"
     ]
    }
   ],
   "source": [
    "log_reg = sm.Logit(ytrain,Xtrain).fit()"
   ]
  },
  {
   "cell_type": "code",
   "execution_count": 19,
   "id": "funky-recipient",
   "metadata": {
    "execution": {
     "iopub.execute_input": "2021-06-27T07:13:50.024455Z",
     "iopub.status.busy": "2021-06-27T07:13:50.023832Z",
     "iopub.status.idle": "2021-06-27T07:13:50.042899Z",
     "shell.execute_reply": "2021-06-27T07:13:50.043527Z",
     "shell.execute_reply.started": "2021-06-27T07:02:10.576468Z"
    },
    "papermill": {
     "duration": 0.084677,
     "end_time": "2021-06-27T07:13:50.043701",
     "exception": false,
     "start_time": "2021-06-27T07:13:49.959024",
     "status": "completed"
    },
    "tags": []
   },
   "outputs": [
    {
     "name": "stdout",
     "output_type": "stream",
     "text": [
      "                           Logit Regression Results                           \n",
      "==============================================================================\n",
      "Dep. Variable:                 output   No. Observations:                  227\n",
      "Model:                          Logit   Df Residuals:                      214\n",
      "Method:                           MLE   Df Model:                           12\n",
      "Date:                Sun, 27 Jun 2021   Pseudo R-squ.:                  0.5600\n",
      "Time:                        07:13:50   Log-Likelihood:                -69.019\n",
      "converged:                       True   LL-Null:                       -156.85\n",
      "Covariance Type:            nonrobust   LLR p-value:                 3.313e-31\n",
      "==============================================================================\n",
      "                 coef    std err          z      P>|z|      [0.025      0.975]\n",
      "------------------------------------------------------------------------------\n",
      "age            0.0033      0.023      0.143      0.886      -0.042       0.049\n",
      "sex           -1.4857      0.558     -2.665      0.008      -2.578      -0.393\n",
      "cp             0.9161      0.238      3.851      0.000       0.450       1.382\n",
      "trtbps        -0.0149      0.012     -1.260      0.208      -0.038       0.008\n",
      "chol           0.0001      0.005      0.032      0.975      -0.009       0.009\n",
      "fbs            0.7039      0.678      1.038      0.299      -0.626       2.033\n",
      "restecg        1.3965      0.447      3.126      0.002       0.521       2.272\n",
      "thalachh       0.0305      0.010      3.056      0.002       0.011       0.050\n",
      "exng          -1.2550      0.497     -2.524      0.012      -2.229      -0.281\n",
      "oldpeak       -0.5730      0.270     -2.123      0.034      -1.102      -0.044\n",
      "slp            0.6811      0.470      1.448      0.148      -0.241       1.603\n",
      "caa           -0.9241      0.239     -3.861      0.000      -1.393      -0.455\n",
      "thall         -1.1680      0.364     -3.209      0.001      -1.881      -0.455\n",
      "==============================================================================\n"
     ]
    }
   ],
   "source": [
    "print(log_reg.summary())"
   ]
  },
  {
   "cell_type": "markdown",
   "id": "informed-sheet",
   "metadata": {
    "papermill": {
     "duration": 0.049413,
     "end_time": "2021-06-27T07:13:50.143554",
     "exception": false,
     "start_time": "2021-06-27T07:13:50.094141",
     "status": "completed"
    },
    "tags": []
   },
   "source": [
    "**Note:**\n",
    "age, trtbps, chol, fbs, restecg shows high p-values, under which we cannot reject the null hypothesis that it is insignificant to the dependent variables, which should be removed at first. "
   ]
  },
  {
   "cell_type": "code",
   "execution_count": 20,
   "id": "spiritual-asian",
   "metadata": {
    "execution": {
     "iopub.execute_input": "2021-06-27T07:13:50.250913Z",
     "iopub.status.busy": "2021-06-27T07:13:50.250249Z",
     "iopub.status.idle": "2021-06-27T07:13:58.480924Z",
     "shell.execute_reply": "2021-06-27T07:13:58.481449Z",
     "shell.execute_reply.started": "2021-06-27T07:02:10.614052Z"
    },
    "papermill": {
     "duration": 8.288683,
     "end_time": "2021-06-27T07:13:58.481648",
     "exception": false,
     "start_time": "2021-06-27T07:13:50.192965",
     "status": "completed"
    },
    "tags": []
   },
   "outputs": [],
   "source": [
    "SFS = SequentialFeatureSelector(LogisticRegression(random_state=0),n_features_to_select=7,\n",
    "    direction='backward',\n",
    "    scoring='roc_auc',\n",
    "    cv=5).fit(Xtrain,ytrain)"
   ]
  },
  {
   "cell_type": "code",
   "execution_count": 21,
   "id": "variable-cleveland",
   "metadata": {
    "execution": {
     "iopub.execute_input": "2021-06-27T07:13:58.593795Z",
     "iopub.status.busy": "2021-06-27T07:13:58.593043Z",
     "iopub.status.idle": "2021-06-27T07:13:58.596528Z",
     "shell.execute_reply": "2021-06-27T07:13:58.596973Z",
     "shell.execute_reply.started": "2021-06-27T07:02:19.529984Z"
    },
    "papermill": {
     "duration": 0.065161,
     "end_time": "2021-06-27T07:13:58.597153",
     "exception": false,
     "start_time": "2021-06-27T07:13:58.531992",
     "status": "completed"
    },
    "tags": []
   },
   "outputs": [
    {
     "data": {
      "text/html": [
       "<div>\n",
       "<style scoped>\n",
       "    .dataframe tbody tr th:only-of-type {\n",
       "        vertical-align: middle;\n",
       "    }\n",
       "\n",
       "    .dataframe tbody tr th {\n",
       "        vertical-align: top;\n",
       "    }\n",
       "\n",
       "    .dataframe thead th {\n",
       "        text-align: right;\n",
       "    }\n",
       "</style>\n",
       "<table border=\"1\" class=\"dataframe\">\n",
       "  <thead>\n",
       "    <tr style=\"text-align: right;\">\n",
       "      <th></th>\n",
       "      <th>Variable</th>\n",
       "      <th>Chosen</th>\n",
       "    </tr>\n",
       "  </thead>\n",
       "  <tbody>\n",
       "    <tr>\n",
       "      <th>0</th>\n",
       "      <td>age</td>\n",
       "      <td>False</td>\n",
       "    </tr>\n",
       "    <tr>\n",
       "      <th>1</th>\n",
       "      <td>sex</td>\n",
       "      <td>True</td>\n",
       "    </tr>\n",
       "    <tr>\n",
       "      <th>2</th>\n",
       "      <td>cp</td>\n",
       "      <td>True</td>\n",
       "    </tr>\n",
       "    <tr>\n",
       "      <th>3</th>\n",
       "      <td>trtbps</td>\n",
       "      <td>False</td>\n",
       "    </tr>\n",
       "    <tr>\n",
       "      <th>4</th>\n",
       "      <td>chol</td>\n",
       "      <td>False</td>\n",
       "    </tr>\n",
       "    <tr>\n",
       "      <th>5</th>\n",
       "      <td>fbs</td>\n",
       "      <td>False</td>\n",
       "    </tr>\n",
       "    <tr>\n",
       "      <th>6</th>\n",
       "      <td>restecg</td>\n",
       "      <td>False</td>\n",
       "    </tr>\n",
       "    <tr>\n",
       "      <th>7</th>\n",
       "      <td>thalachh</td>\n",
       "      <td>False</td>\n",
       "    </tr>\n",
       "    <tr>\n",
       "      <th>8</th>\n",
       "      <td>exng</td>\n",
       "      <td>True</td>\n",
       "    </tr>\n",
       "    <tr>\n",
       "      <th>9</th>\n",
       "      <td>oldpeak</td>\n",
       "      <td>True</td>\n",
       "    </tr>\n",
       "    <tr>\n",
       "      <th>10</th>\n",
       "      <td>slp</td>\n",
       "      <td>True</td>\n",
       "    </tr>\n",
       "    <tr>\n",
       "      <th>11</th>\n",
       "      <td>caa</td>\n",
       "      <td>True</td>\n",
       "    </tr>\n",
       "    <tr>\n",
       "      <th>12</th>\n",
       "      <td>thall</td>\n",
       "      <td>True</td>\n",
       "    </tr>\n",
       "  </tbody>\n",
       "</table>\n",
       "</div>"
      ],
      "text/plain": [
       "    Variable  Chosen\n",
       "0        age   False\n",
       "1        sex    True\n",
       "2         cp    True\n",
       "3     trtbps   False\n",
       "4       chol   False\n",
       "5        fbs   False\n",
       "6    restecg   False\n",
       "7   thalachh   False\n",
       "8       exng    True\n",
       "9    oldpeak    True\n",
       "10       slp    True\n",
       "11       caa    True\n",
       "12     thall    True"
      ]
     },
     "execution_count": 21,
     "metadata": {},
     "output_type": "execute_result"
    }
   ],
   "source": [
    "SFS_results = pd.DataFrame({'Variable':Xtrain.columns,\n",
    "                             'Chosen':SFS.get_support()})\n",
    "SFS_results.head(13)"
   ]
  },
  {
   "cell_type": "markdown",
   "id": "sought-facility",
   "metadata": {
    "papermill": {
     "duration": 0.049836,
     "end_time": "2021-06-27T07:13:58.697421",
     "exception": false,
     "start_time": "2021-06-27T07:13:58.647585",
     "status": "completed"
    },
    "tags": []
   },
   "source": [
    "**Notes:**\n",
    "\n",
    "Through Logistic Regression and Sequential Feature Selection, we could further consolidate our findings and hypotheses from privous Pearson Correlation heatmap.\n",
    "\n",
    "The outcome reveals that age, trtbps, chol, fbs, restecg are the significant variables for prediction and the remaining will be conceived as insignificant noise and removed accordingly."
   ]
  },
  {
   "cell_type": "code",
   "execution_count": 22,
   "id": "retained-native",
   "metadata": {
    "execution": {
     "iopub.execute_input": "2021-06-27T07:13:58.807067Z",
     "iopub.status.busy": "2021-06-27T07:13:58.806029Z",
     "iopub.status.idle": "2021-06-27T07:13:58.819125Z",
     "shell.execute_reply": "2021-06-27T07:13:58.818187Z",
     "shell.execute_reply.started": "2021-06-27T07:02:19.545535Z"
    },
    "papermill": {
     "duration": 0.071214,
     "end_time": "2021-06-27T07:13:58.819327",
     "exception": false,
     "start_time": "2021-06-27T07:13:58.748113",
     "status": "completed"
    },
    "tags": []
   },
   "outputs": [
    {
     "name": "stdout",
     "output_type": "stream",
     "text": [
      "Optimization terminated successfully.\n",
      "         Current function value: 0.362569\n",
      "         Iterations 7\n"
     ]
    }
   ],
   "source": [
    "SFS_Variable = SFS_results[SFS_results['Chosen'] == True]['Variable']\n",
    "log_reg = sm.Logit(ytrain, Xtrain[SFS_Variable]).fit()"
   ]
  },
  {
   "cell_type": "code",
   "execution_count": 23,
   "id": "numeric-sellers",
   "metadata": {
    "execution": {
     "iopub.execute_input": "2021-06-27T07:13:58.977161Z",
     "iopub.status.busy": "2021-06-27T07:13:58.976056Z",
     "iopub.status.idle": "2021-06-27T07:13:58.991444Z",
     "shell.execute_reply": "2021-06-27T07:13:58.991959Z",
     "shell.execute_reply.started": "2021-06-27T07:02:19.580336Z"
    },
    "papermill": {
     "duration": 0.082979,
     "end_time": "2021-06-27T07:13:58.992128",
     "exception": false,
     "start_time": "2021-06-27T07:13:58.909149",
     "status": "completed"
    },
    "tags": []
   },
   "outputs": [
    {
     "name": "stdout",
     "output_type": "stream",
     "text": [
      "                           Logit Regression Results                           \n",
      "==============================================================================\n",
      "Dep. Variable:                 output   No. Observations:                  227\n",
      "Model:                          Logit   Df Residuals:                      220\n",
      "Method:                           MLE   Df Model:                            6\n",
      "Date:                Sun, 27 Jun 2021   Pseudo R-squ.:                  0.4753\n",
      "Time:                        07:13:58   Log-Likelihood:                -82.303\n",
      "converged:                       True   LL-Null:                       -156.85\n",
      "Covariance Type:            nonrobust   LLR p-value:                 1.205e-29\n",
      "==============================================================================\n",
      "                 coef    std err          z      P>|z|      [0.025      0.975]\n",
      "------------------------------------------------------------------------------\n",
      "sex           -1.1544      0.462     -2.497      0.013      -2.061      -0.248\n",
      "cp             1.0776      0.208      5.169      0.000       0.669       1.486\n",
      "exng          -1.0663      0.437     -2.442      0.015      -1.922      -0.210\n",
      "oldpeak       -0.2978      0.226     -1.318      0.187      -0.741       0.145\n",
      "slp            1.5444      0.351      4.406      0.000       0.857       2.232\n",
      "caa           -0.8788      0.217     -4.058      0.000      -1.303      -0.454\n",
      "thall         -0.4365      0.265     -1.644      0.100      -0.957       0.084\n",
      "==============================================================================\n"
     ]
    }
   ],
   "source": [
    "print(log_reg.summary())"
   ]
  },
  {
   "cell_type": "markdown",
   "id": "taken-minority",
   "metadata": {
    "papermill": {
     "duration": 0.050443,
     "end_time": "2021-06-27T07:13:59.093408",
     "exception": false,
     "start_time": "2021-06-27T07:13:59.042965",
     "status": "completed"
    },
    "tags": []
   },
   "source": [
    "# Model Evalution"
   ]
  },
  {
   "cell_type": "code",
   "execution_count": 24,
   "id": "oriented-sauce",
   "metadata": {
    "_kg_hide-output": true,
    "execution": {
     "iopub.execute_input": "2021-06-27T07:13:59.206383Z",
     "iopub.status.busy": "2021-06-27T07:13:59.205775Z",
     "iopub.status.idle": "2021-06-27T07:13:59.210047Z",
     "shell.execute_reply": "2021-06-27T07:13:59.209532Z",
     "shell.execute_reply.started": "2021-06-27T07:02:19.641091Z"
    },
    "papermill": {
     "duration": 0.065898,
     "end_time": "2021-06-27T07:13:59.210183",
     "exception": false,
     "start_time": "2021-06-27T07:13:59.144285",
     "status": "completed"
    },
    "tags": []
   },
   "outputs": [
    {
     "data": {
      "text/html": [
       "<div>\n",
       "<style scoped>\n",
       "    .dataframe tbody tr th:only-of-type {\n",
       "        vertical-align: middle;\n",
       "    }\n",
       "\n",
       "    .dataframe tbody tr th {\n",
       "        vertical-align: top;\n",
       "    }\n",
       "\n",
       "    .dataframe thead th {\n",
       "        text-align: right;\n",
       "    }\n",
       "</style>\n",
       "<table border=\"1\" class=\"dataframe\">\n",
       "  <thead>\n",
       "    <tr style=\"text-align: right;\">\n",
       "      <th></th>\n",
       "      <th>Model</th>\n",
       "      <th>Feature_Selection</th>\n",
       "      <th>Accuracy</th>\n",
       "      <th>Log_Loss</th>\n",
       "      <th>Roc</th>\n",
       "    </tr>\n",
       "  </thead>\n",
       "  <tbody>\n",
       "  </tbody>\n",
       "</table>\n",
       "</div>"
      ],
      "text/plain": [
       "Empty DataFrame\n",
       "Columns: [Model, Feature_Selection, Accuracy, Log_Loss, Roc]\n",
       "Index: []"
      ]
     },
     "execution_count": 24,
     "metadata": {},
     "output_type": "execute_result"
    }
   ],
   "source": [
    "Perfomance_df = pd.DataFrame(columns=['Model','Feature_Selection','Accuracy','Log_Loss','Roc'])\n",
    "Perfomance_df.head()"
   ]
  },
  {
   "cell_type": "markdown",
   "id": "incorrect-rugby",
   "metadata": {
    "papermill": {
     "duration": 0.050933,
     "end_time": "2021-06-27T07:13:59.312274",
     "exception": false,
     "start_time": "2021-06-27T07:13:59.261341",
     "status": "completed"
    },
    "tags": []
   },
   "source": [
    "> **RandomForestClassifier(for all dependent Variables):**"
   ]
  },
  {
   "cell_type": "code",
   "execution_count": 25,
   "id": "south-spelling",
   "metadata": {
    "execution": {
     "iopub.execute_input": "2021-06-27T07:13:59.426247Z",
     "iopub.status.busy": "2021-06-27T07:13:59.425616Z",
     "iopub.status.idle": "2021-06-27T07:15:31.760046Z",
     "shell.execute_reply": "2021-06-27T07:15:31.760843Z",
     "shell.execute_reply.started": "2021-06-27T07:04:14.576383Z"
    },
    "papermill": {
     "duration": 92.396658,
     "end_time": "2021-06-27T07:15:31.761057",
     "exception": false,
     "start_time": "2021-06-27T07:13:59.364399",
     "status": "completed"
    },
    "tags": []
   },
   "outputs": [
    {
     "name": "stdout",
     "output_type": "stream",
     "text": [
      "Fitting 3 folds for each of 100 candidates, totalling 300 fits\n"
     ]
    },
    {
     "data": {
      "text/plain": [
       "RandomizedSearchCV(cv=3, estimator=RandomForestClassifier(), n_iter=100,\n",
       "                   n_jobs=10,\n",
       "                   param_distributions={'bootstrap': [True, False],\n",
       "                                        'ccp_alpha': array([0.        , 0.00432933, 0.00587372, 0.00660793, 0.00660793,\n",
       "       0.00660793, 0.00671282, 0.00699252, 0.00734214, 0.00783162,\n",
       "       0.00825991, 0.00976505, 0.00991189, 0.01044216, 0.01118377,\n",
       "       0.01718062, 0.01752103, 0.02797216, 0.02815926, 0.0490099 ,\n",
       "       0.15145634]),\n",
       "                                        'class_weight': ['balanced',\n",
       "                                                         'balanced_subsample'],\n",
       "                                        'criterion': ['gini', 'entropy'],\n",
       "                                        'max_depth': [10, 100, 1000],\n",
       "                                        'max_features': ['auto', 'sqrt',\n",
       "                                                         'log2'],\n",
       "                                        'n_estimators': [10, 100, 1000]},\n",
       "                   random_state=0, return_train_score=True, scoring='accuracy',\n",
       "                   verbose=2)"
      ]
     },
     "execution_count": 25,
     "metadata": {},
     "output_type": "execute_result"
    }
   ],
   "source": [
    "#Pruning\n",
    "alphas = DecisionTreeClassifier(random_state=0).cost_complexity_pruning_path(Xtrain, ytrain)['ccp_alphas']\n",
    "                    \n",
    "#Pools of Parameters\n",
    "random_parameters = {'n_estimators': [10,100,1000],\n",
    "                     'criterion':['gini','entropy'],\n",
    "                     'max_depth': [10,100,1000],\n",
    "                     'max_features':[\"auto\",\"sqrt\", \"log2\"],\n",
    "                     'bootstrap' :[True,False],\n",
    "                     'class_weight': [\"balanced\", \"balanced_subsample\"], \n",
    "                     'ccp_alpha': alphas\n",
    "                    }\n",
    "\n",
    "#Randomized Cross Validation for Hyperparameters Tuning\n",
    "RFC = RandomizedSearchCV(RandomForestClassifier(), \n",
    "                         param_distributions = random_parameters,\n",
    "                         n_iter = 100,\n",
    "                         scoring = 'accuracy',\n",
    "                         n_jobs = 10,\n",
    "                         cv = 3,\n",
    "                         verbose = 2,\n",
    "                         random_state=0,\n",
    "                         return_train_score = True)\n",
    "RFC.fit(Xtrain, ytrain)"
   ]
  },
  {
   "cell_type": "code",
   "execution_count": 26,
   "id": "excited-destiny",
   "metadata": {
    "execution": {
     "iopub.execute_input": "2021-06-27T07:15:31.874784Z",
     "iopub.status.busy": "2021-06-27T07:15:31.873784Z",
     "iopub.status.idle": "2021-06-27T07:15:31.898637Z",
     "shell.execute_reply": "2021-06-27T07:15:31.898025Z",
     "shell.execute_reply.started": "2021-06-27T07:06:27.834016Z"
    },
    "papermill": {
     "duration": 0.085609,
     "end_time": "2021-06-27T07:15:31.898777",
     "exception": false,
     "start_time": "2021-06-27T07:15:31.813168",
     "status": "completed"
    },
    "tags": []
   },
   "outputs": [
    {
     "data": {
      "text/plain": [
       "RandomForestClassifier(bootstrap=False, ccp_alpha=0.009911894273127754,\n",
       "                       class_weight='balanced_subsample', max_depth=1000,\n",
       "                       max_features='sqrt', n_estimators=10)"
      ]
     },
     "execution_count": 26,
     "metadata": {},
     "output_type": "execute_result"
    }
   ],
   "source": [
    "Best_Parameter = RFC.best_params_\n",
    "\n",
    "\n",
    "#Test the Preforamnce of Best Parameters \n",
    "\n",
    "RFC = RandomForestClassifier(n_estimators = Best_Parameter['n_estimators'],\n",
    "                             criterion = Best_Parameter['criterion'],\n",
    "                             max_depth = Best_Parameter['max_depth'],\n",
    "                             max_features = Best_Parameter['max_features'],\n",
    "                             bootstrap = Best_Parameter['bootstrap'],\n",
    "                             class_weight = Best_Parameter['class_weight'],\n",
    "                             ccp_alpha = Best_Parameter['ccp_alpha']\n",
    "                            )\n",
    "RFC.fit(Xtrain, ytrain)"
   ]
  },
  {
   "cell_type": "code",
   "execution_count": 27,
   "id": "incorrect-clearance",
   "metadata": {
    "execution": {
     "iopub.execute_input": "2021-06-27T07:15:32.017248Z",
     "iopub.status.busy": "2021-06-27T07:15:32.016563Z",
     "iopub.status.idle": "2021-06-27T07:15:32.029266Z",
     "shell.execute_reply": "2021-06-27T07:15:32.029802Z",
     "shell.execute_reply.started": "2021-06-27T07:06:40.456613Z"
    },
    "papermill": {
     "duration": 0.07893,
     "end_time": "2021-06-27T07:15:32.029967",
     "exception": false,
     "start_time": "2021-06-27T07:15:31.951037",
     "status": "completed"
    },
    "tags": []
   },
   "outputs": [
    {
     "name": "stdout",
     "output_type": "stream",
     "text": [
      "Accuracy: 0.7631578947368421\n",
      "Log Loss: 8.180352245791113\n",
      "ROC Accuracy: 0.7485795454545454\n",
      "Confusion Matrix:\n",
      " [[21 11]\n",
      " [ 7 37]]\n"
     ]
    }
   ],
   "source": [
    "#Validation\n",
    "pred = RFC.predict(Xtest)\n",
    "Performance_df = Perfomance_df.append(pd.DataFrame([['RFC', 'Full', accuracy_score(ytest, pred), log_loss(ytest, pred), roc_auc_score(ytest, pred)]],\n",
    "                                                    columns = ['Model', 'Feature Selection','Accuracy', 'Log Loss', 'ROC']), sort = False)\n",
    "\n",
    "print('Accuracy:', accuracy_score(ytest, pred))\n",
    "print('Log Loss:', log_loss(ytest, pred))\n",
    "print('ROC Accuracy:', roc_auc_score(ytest, pred))\n",
    "print('Confusion Matrix:\\n', \n",
    "       confusion_matrix(ytest, pred))"
   ]
  },
  {
   "cell_type": "code",
   "execution_count": 28,
   "id": "signed-preference",
   "metadata": {
    "execution": {
     "iopub.execute_input": "2021-06-27T07:15:32.145955Z",
     "iopub.status.busy": "2021-06-27T07:15:32.144912Z",
     "iopub.status.idle": "2021-06-27T07:15:32.374606Z",
     "shell.execute_reply": "2021-06-27T07:15:32.375136Z",
     "shell.execute_reply.started": "2021-06-27T07:06:43.068146Z"
    },
    "papermill": {
     "duration": 0.292803,
     "end_time": "2021-06-27T07:15:32.375307",
     "exception": false,
     "start_time": "2021-06-27T07:15:32.082504",
     "status": "completed"
    },
    "tags": []
   },
   "outputs": [
    {
     "data": {
      "text/plain": [
       "<sklearn.metrics._plot.roc_curve.RocCurveDisplay at 0x7fc8a04bb690>"
      ]
     },
     "execution_count": 28,
     "metadata": {},
     "output_type": "execute_result"
    },
    {
     "data": {
      "image/png": "[encoded data removed]",
      "text/plain": [
       "<Figure size 1080x720 with 1 Axes>"
      ]
     },
     "metadata": {},
     "output_type": "display_data"
    }
   ],
   "source": [
    "plot_roc_curve(RFC, Xtest, ytest)"
   ]
  },
  {
   "cell_type": "markdown",
   "id": "painted-compensation",
   "metadata": {
    "papermill": {
     "duration": 0.054116,
     "end_time": "2021-06-27T07:15:32.484969",
     "exception": false,
     "start_time": "2021-06-27T07:15:32.430853",
     "status": "completed"
    },
    "tags": []
   },
   "source": [
    "> **RandomForest(for Selected Dependent Variables):**"
   ]
  },
  {
   "cell_type": "code",
   "execution_count": 29,
   "id": "adjacent-malawi",
   "metadata": {
    "execution": {
     "iopub.execute_input": "2021-06-27T07:15:32.596338Z",
     "iopub.status.busy": "2021-06-27T07:15:32.595399Z",
     "iopub.status.idle": "2021-06-27T07:17:26.475845Z",
     "shell.execute_reply": "2021-06-27T07:17:26.476341Z",
     "shell.execute_reply.started": "2021-06-27T07:06:54.339310Z"
    },
    "papermill": {
     "duration": 113.937654,
     "end_time": "2021-06-27T07:17:26.476564",
     "exception": false,
     "start_time": "2021-06-27T07:15:32.538910",
     "status": "completed"
    },
    "tags": []
   },
   "outputs": [
    {
     "name": "stdout",
     "output_type": "stream",
     "text": [
      "Fitting 3 folds for each of 100 candidates, totalling 300 fits\n"
     ]
    },
    {
     "data": {
      "text/plain": [
       "RandomizedSearchCV(cv=3, estimator=RandomForestClassifier(), n_iter=100,\n",
       "                   n_jobs=10,\n",
       "                   param_distributions={'bootstrap': [True, False],\n",
       "                                        'ccp_alpha': array([0.        , 0.00029369, 0.00077093, 0.00088106, 0.00146843,\n",
       "       0.00195791, 0.00220264, 0.0023862 , 0.00247797, 0.00253952,\n",
       "       0.00266987, 0.00287927, 0.00288871, 0.00295354, 0.00401641,\n",
       "       0.0041978 , 0.00440529, 0.00521292, 0.00550661, 0.00810995,\n",
       "       0.00819611, 0.00982376, 0.01718062, 0.01752103, 0.02797216,\n",
       "       0.02815926, 0.0490099 , 0.15145634]),\n",
       "                                        'class_weight': ['balanced',\n",
       "                                                         'balanced_subsample'],\n",
       "                                        'criterion': ['gini', 'entropy'],\n",
       "                                        'max_depth': [10, 100, 1000],\n",
       "                                        'max_features': ['auto', 'sqrt',\n",
       "                                                         'log2'],\n",
       "                                        'n_estimators': [10, 100, 1000]},\n",
       "                   random_state=0, return_train_score=True, scoring='accuracy',\n",
       "                   verbose=2)"
      ]
     },
     "execution_count": 29,
     "metadata": {},
     "output_type": "execute_result"
    }
   ],
   "source": [
    "#Find the Alpha\n",
    "alphas = DecisionTreeClassifier(random_state=0).cost_complexity_pruning_path(Xtrain[SFS_Variable], ytrain)['ccp_alphas']\n",
    "\n",
    "#Pools of Parameters        \n",
    "random_parameters = {'n_estimators': [10,100,1000],\n",
    "                     'criterion':['gini','entropy'],\n",
    "                     'max_depth': [10,100,1000],\n",
    "                     'max_features':[\"auto\",\"sqrt\", \"log2\"],\n",
    "                     'bootstrap' :[True,False],\n",
    "                     'class_weight': [\"balanced\", \"balanced_subsample\"], \n",
    "                     'ccp_alpha': alphas\n",
    "                    }\n",
    "  \n",
    "#Randomized Cross Validation for Hyperparameters Tuning\n",
    "RFC = RandomizedSearchCV(RandomForestClassifier(), \n",
    "                         param_distributions = random_parameters,\n",
    "                         n_iter = 100,\n",
    "                         scoring = 'accuracy',\n",
    "                         n_jobs = 10,\n",
    "                         cv = 3,\n",
    "                         verbose = 2,\n",
    "                         random_state=0,\n",
    "                         return_train_score = True)\n",
    "RFC.fit(Xtrain[SFS_Variable], ytrain)"
   ]
  },
  {
   "cell_type": "code",
   "execution_count": 30,
   "id": "criminal-china",
   "metadata": {
    "execution": {
     "iopub.execute_input": "2021-06-27T07:17:26.606258Z",
     "iopub.status.busy": "2021-06-27T07:17:26.601174Z",
     "iopub.status.idle": "2021-06-27T07:17:28.842246Z",
     "shell.execute_reply": "2021-06-27T07:17:28.842718Z",
     "shell.execute_reply.started": "2021-06-27T07:08:26.946569Z"
    },
    "papermill": {
     "duration": 2.311188,
     "end_time": "2021-06-27T07:17:28.842888",
     "exception": false,
     "start_time": "2021-06-27T07:17:26.531700",
     "status": "completed"
    },
    "tags": []
   },
   "outputs": [
    {
     "data": {
      "text/plain": [
       "RandomForestClassifier(ccp_alpha=0.04900990453489101,\n",
       "                       class_weight='balanced_subsample', max_depth=1000,\n",
       "                       n_estimators=1000)"
      ]
     },
     "execution_count": 30,
     "metadata": {},
     "output_type": "execute_result"
    }
   ],
   "source": [
    "Best_Parameter = RFC.best_params_\n",
    "\n",
    "#Test the Preforamnce of Best Parameters \n",
    "RFC = RandomForestClassifier(n_estimators = Best_Parameter['n_estimators'],\n",
    "                             criterion = Best_Parameter['criterion'],\n",
    "                             max_depth = Best_Parameter['max_depth'],\n",
    "                             max_features = Best_Parameter['max_features'],\n",
    "                             bootstrap = Best_Parameter['bootstrap'],\n",
    "                             class_weight = Best_Parameter['class_weight'],\n",
    "                             ccp_alpha = Best_Parameter['ccp_alpha']\n",
    "                            )\n",
    "RFC.fit(Xtrain[SFS_Variable], ytrain)"
   ]
  },
  {
   "cell_type": "code",
   "execution_count": 31,
   "id": "designed-hungary",
   "metadata": {
    "execution": {
     "iopub.execute_input": "2021-06-27T07:17:28.965552Z",
     "iopub.status.busy": "2021-06-27T07:17:28.964458Z",
     "iopub.status.idle": "2021-06-27T07:17:29.083337Z",
     "shell.execute_reply": "2021-06-27T07:17:29.083818Z",
     "shell.execute_reply.started": "2021-06-27T07:08:26.904574Z"
    },
    "papermill": {
     "duration": 0.186062,
     "end_time": "2021-06-27T07:17:29.083988",
     "exception": false,
     "start_time": "2021-06-27T07:17:28.897926",
     "status": "completed"
    },
    "tags": []
   },
   "outputs": [
    {
     "name": "stdout",
     "output_type": "stream",
     "text": [
      "Accuracy: 0.8421052631578947\n",
      "Log Loss: 5.453596219910923\n",
      "ROC Accuracy: 0.8210227272727273\n",
      "Confusion Matrix:\n",
      " [[22 10]\n",
      " [ 2 42]]\n"
     ]
    }
   ],
   "source": [
    "#Validation\n",
    "pred = RFC.predict(Xtest[SFS_Variable])\n",
    "Performance_df = Performance_df.append(pd.DataFrame([['RFC', 'Selected', accuracy_score(ytest, pred), log_loss(ytest, pred), roc_auc_score(ytest, pred)]],\n",
    "                                                    columns = ['Model', 'Feature Selection','Accuracy', 'Log Loss', 'ROC']), sort = False)\n",
    "\n",
    "print('Accuracy:', accuracy_score(ytest, pred))\n",
    "print('Log Loss:', log_loss(ytest, pred))\n",
    "print('ROC Accuracy:', roc_auc_score(ytest, pred))\n",
    "print('Confusion Matrix:\\n', \n",
    "       confusion_matrix(ytest, pred))"
   ]
  },
  {
   "cell_type": "code",
   "execution_count": 32,
   "id": "available-alliance",
   "metadata": {
    "execution": {
     "iopub.execute_input": "2021-06-27T07:17:29.265017Z",
     "iopub.status.busy": "2021-06-27T07:17:29.263952Z",
     "iopub.status.idle": "2021-06-27T07:17:29.546778Z",
     "shell.execute_reply": "2021-06-27T07:17:29.546158Z",
     "shell.execute_reply.started": "2021-06-27T07:09:44.629190Z"
    },
    "papermill": {
     "duration": 0.407166,
     "end_time": "2021-06-27T07:17:29.546917",
     "exception": false,
     "start_time": "2021-06-27T07:17:29.139751",
     "status": "completed"
    },
    "tags": []
   },
   "outputs": [
    {
     "data": {
      "text/plain": [
       "<sklearn.metrics._plot.roc_curve.RocCurveDisplay at 0x7fc8c12b62d0>"
      ]
     },
     "execution_count": 32,
     "metadata": {},
     "output_type": "execute_result"
    },
    {
     "data": {
      "image/png": "[encoded data removed]",
      "text/plain": [
       "<Figure size 1080x720 with 1 Axes>"
      ]
     },
     "metadata": {},
     "output_type": "display_data"
    }
   ],
   "source": [
    "plot_roc_curve(RFC,Xtest[SFS_Variable], ytest)"
   ]
  },
  {
   "cell_type": "code",
   "execution_count": null,
   "id": "flying-reservation",
   "metadata": {
    "papermill": {
     "duration": 0.05666,
     "end_time": "2021-06-27T07:17:29.660877",
     "exception": false,
     "start_time": "2021-06-27T07:17:29.604217",
     "status": "completed"
    },
    "tags": []
   },
   "outputs": [],
   "source": []
  },
  {
   "cell_type": "code",
   "execution_count": null,
   "id": "young-organic",
   "metadata": {
    "papermill": {
     "duration": 0.056009,
     "end_time": "2021-06-27T07:17:29.773120",
     "exception": false,
     "start_time": "2021-06-27T07:17:29.717111",
     "status": "completed"
    },
    "tags": []
   },
   "outputs": [],
   "source": []
  },
  {
   "cell_type": "code",
   "execution_count": null,
   "id": "excess-egypt",
   "metadata": {
    "papermill": {
     "duration": 0.056275,
     "end_time": "2021-06-27T07:17:29.886281",
     "exception": false,
     "start_time": "2021-06-27T07:17:29.830006",
     "status": "completed"
    },
    "tags": []
   },
   "outputs": [],
   "source": []
  },
  {
   "cell_type": "code",
   "execution_count": null,
   "id": "solid-calgary",
   "metadata": {
    "papermill": {
     "duration": 0.0558,
     "end_time": "2021-06-27T07:17:29.998270",
     "exception": false,
     "start_time": "2021-06-27T07:17:29.942470",
     "status": "completed"
    },
    "tags": []
   },
   "outputs": [],
   "source": []
  }
 ],
 "metadata": {
  "kernelspec": {
   "display_name": "Python 3",
   "language": "python",
   "name": "python3"
  },
  "language_info": {
   "codemirror_mode": {
    "name": "ipython",
    "version": 3
   },
   "file_extension": ".py",
   "mimetype": "text/x-python",
   "name": "python",
   "nbconvert_exporter": "python",
   "pygments_lexer": "ipython3",
   "version": "3.7.10"
  },
  "papermill": {
   "default_parameters": {},
   "duration": 236.955146,
   "end_time": "2021-06-27T07:17:31.413387",
   "environment_variables": {},
   "exception": null,
   "input_path": "__notebook__.ipynb",
   "output_path": "__notebook__.ipynb",
   "parameters": {},
   "start_time": "2021-06-27T07:13:34.458241",
   "version": "2.3.3"
  }
 },
 "nbformat": 4,
 "nbformat_minor": 5
}
